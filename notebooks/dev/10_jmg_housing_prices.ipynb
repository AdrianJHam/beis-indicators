{
 "cells": [
  {
   "cell_type": "markdown",
   "metadata": {},
   "source": [
    "# House affordability\n",
    "\n",
    "In this footnote we compile data about housing affordability in the UK.\n",
    "\n",
    "We will use [House Price Index](https://www.gov.uk/government/publications/about-the-uk-house-price-index/about-the-uk-house-price-index#monthly-revision) data based on residential housing transactions from the Land Registry. We can normalise this data to capture affordability using median annual salaries from ASHE that we will be collecting elsewhere.\n",
    "\n",
    "Our strategy is to: \n",
    "\n",
    "* Collect the data [Here](https://www.gov.uk/government/statistical-data-sets/uk-house-price-index-data-downloads-august-2019)\n",
    "* Process it into the geographies we are interested in (if possible)\n",
    "* Create indicators."
   ]
  },
  {
   "cell_type": "markdown",
   "metadata": {},
   "source": [
    "## Preamble"
   ]
  },
  {
   "cell_type": "code",
   "execution_count": 32,
   "metadata": {},
   "outputs": [
    {
     "name": "stdout",
     "output_type": "stream",
     "text": [
      "The autoreload extension is already loaded. To reload it, use:\n",
      "  %reload_ext autoreload\n"
     ]
    }
   ],
   "source": [
    "%run ../notebook_preamble.ipy"
   ]
  },
  {
   "cell_type": "code",
   "execution_count": 33,
   "metadata": {},
   "outputs": [],
   "source": [
    "def make_dirs(name,dirs = ['raw','processed']):\n",
    "    '''\n",
    "    Utility that creates directories to save the data\n",
    "    \n",
    "    '''\n",
    "    \n",
    "    for d in dirs:\n",
    "        if name not in os.listdir(f'../../data/{d}'):\n",
    "            os.mkdir(f'../../data/{d}/{name}')\n",
    "            \n",
    "def flat_freq(a_list):\n",
    "    '''\n",
    "    Return value counts for categories in a nested list\n",
    "    \n",
    "    '''\n",
    "    return(pd.Series([x for el in a_list for x in el]).value_counts())\n",
    "\n",
    "        \n",
    "\n",
    "def flatten_list(a_list):\n",
    "    \n",
    "    return([x for el in a_list for x in el])\n",
    "\n",
    "        "
   ]
  },
  {
   "cell_type": "code",
   "execution_count": 34,
   "metadata": {},
   "outputs": [],
   "source": [
    "def save_data(df,name,path,today=today_str):\n",
    "    '''\n",
    "    Utility to save processed data quicker\n",
    "    \n",
    "    Arguments:\n",
    "        df (df) is the dataframe we want to save\n",
    "        name (str) is the name of the file\n",
    "        path (str) is the path where we want to save the file\n",
    "        today (str) is the day when the data is saved\n",
    "    \n",
    "    '''\n",
    "    \n",
    "    df.to_csv(f'{path}/{today_str}_{name}.csv')\n",
    "    "
   ]
  },
  {
   "cell_type": "code",
   "execution_count": 35,
   "metadata": {},
   "outputs": [],
   "source": [
    "#dirs\n",
    "\n",
    "if 'housing' not in os.listdir('../../data/raw'):\n",
    "    os.makedirs('../../data/raw/housing')\n",
    "\n",
    "if 'housing' not in os.listdir('../../data/interim/'):\n",
    "    os.makedirs('../../data/processed/housing')"
   ]
  },
  {
   "cell_type": "markdown",
   "metadata": {},
   "source": [
    "## 1. Collect data\n",
    "\n",
    "We collect the data from the land registry. The [data dictionary](https://www.gov.uk/government/publications/about-the-uk-house-price-index/about-the-uk-house-price-index#data-tables) can be found here."
   ]
  },
  {
   "cell_type": "code",
   "execution_count": 36,
   "metadata": {},
   "outputs": [],
   "source": [
    "housing_url = 'http://publicdata.landregistry.gov.uk/market-trend-data/house-price-index-data/UK-HPI-full-file-2019-08.csv?utm_medium=GOV.UK&utm_source=datadownload&utm_campaign=full_fil&utm_term=9.30_16_10_19'\n",
    "\n",
    "hous = pd.read_csv(housing_url)"
   ]
  },
  {
   "cell_type": "code",
   "execution_count": 37,
   "metadata": {},
   "outputs": [
    {
     "data": {
      "text/html": [
       "<div>\n",
       "<style scoped>\n",
       "    .dataframe tbody tr th:only-of-type {\n",
       "        vertical-align: middle;\n",
       "    }\n",
       "\n",
       "    .dataframe tbody tr th {\n",
       "        vertical-align: top;\n",
       "    }\n",
       "\n",
       "    .dataframe thead th {\n",
       "        text-align: right;\n",
       "    }\n",
       "</style>\n",
       "<table border=\"1\" class=\"dataframe\">\n",
       "  <thead>\n",
       "    <tr style=\"text-align: right;\">\n",
       "      <th></th>\n",
       "      <th>Date</th>\n",
       "      <th>RegionName</th>\n",
       "      <th>AreaCode</th>\n",
       "      <th>AveragePrice</th>\n",
       "      <th>Index</th>\n",
       "      <th>IndexSA</th>\n",
       "      <th>1m%Change</th>\n",
       "      <th>12m%Change</th>\n",
       "      <th>AveragePriceSA</th>\n",
       "      <th>SalesVolume</th>\n",
       "      <th>...</th>\n",
       "      <th>NewPrice</th>\n",
       "      <th>NewIndex</th>\n",
       "      <th>New1m%Change</th>\n",
       "      <th>New12m%Change</th>\n",
       "      <th>NewSalesVolume</th>\n",
       "      <th>OldPrice</th>\n",
       "      <th>OldIndex</th>\n",
       "      <th>Old1m%Change</th>\n",
       "      <th>Old12m%Change</th>\n",
       "      <th>OldSalesVolume</th>\n",
       "    </tr>\n",
       "  </thead>\n",
       "  <tbody>\n",
       "    <tr>\n",
       "      <th>0</th>\n",
       "      <td>01/01/2004</td>\n",
       "      <td>Aberdeenshire</td>\n",
       "      <td>S12000034</td>\n",
       "      <td>81693.66964</td>\n",
       "      <td>40.864214</td>\n",
       "      <td>NaN</td>\n",
       "      <td>NaN</td>\n",
       "      <td>NaN</td>\n",
       "      <td>NaN</td>\n",
       "      <td>388.0</td>\n",
       "      <td>...</td>\n",
       "      <td>88436.13953</td>\n",
       "      <td>40.267250</td>\n",
       "      <td>NaN</td>\n",
       "      <td>NaN</td>\n",
       "      <td>103.0</td>\n",
       "      <td>81043.95084</td>\n",
       "      <td>40.883367</td>\n",
       "      <td>NaN</td>\n",
       "      <td>NaN</td>\n",
       "      <td>285.0</td>\n",
       "    </tr>\n",
       "    <tr>\n",
       "      <th>1</th>\n",
       "      <td>01/02/2004</td>\n",
       "      <td>Aberdeenshire</td>\n",
       "      <td>S12000034</td>\n",
       "      <td>81678.76231</td>\n",
       "      <td>40.856757</td>\n",
       "      <td>NaN</td>\n",
       "      <td>-0.018248</td>\n",
       "      <td>NaN</td>\n",
       "      <td>NaN</td>\n",
       "      <td>326.0</td>\n",
       "      <td>...</td>\n",
       "      <td>88606.44649</td>\n",
       "      <td>40.344795</td>\n",
       "      <td>0.192576</td>\n",
       "      <td>NaN</td>\n",
       "      <td>107.0</td>\n",
       "      <td>80965.29542</td>\n",
       "      <td>40.843688</td>\n",
       "      <td>-0.097053</td>\n",
       "      <td>NaN</td>\n",
       "      <td>219.0</td>\n",
       "    </tr>\n",
       "    <tr>\n",
       "      <th>2</th>\n",
       "      <td>01/03/2004</td>\n",
       "      <td>Aberdeenshire</td>\n",
       "      <td>S12000034</td>\n",
       "      <td>83525.09702</td>\n",
       "      <td>41.780317</td>\n",
       "      <td>NaN</td>\n",
       "      <td>2.260483</td>\n",
       "      <td>NaN</td>\n",
       "      <td>NaN</td>\n",
       "      <td>453.0</td>\n",
       "      <td>...</td>\n",
       "      <td>90296.91375</td>\n",
       "      <td>41.114508</td>\n",
       "      <td>1.907838</td>\n",
       "      <td>NaN</td>\n",
       "      <td>140.0</td>\n",
       "      <td>82903.23948</td>\n",
       "      <td>41.821302</td>\n",
       "      <td>2.393549</td>\n",
       "      <td>NaN</td>\n",
       "      <td>313.0</td>\n",
       "    </tr>\n",
       "    <tr>\n",
       "      <th>3</th>\n",
       "      <td>01/04/2004</td>\n",
       "      <td>Aberdeenshire</td>\n",
       "      <td>S12000034</td>\n",
       "      <td>84333.67900</td>\n",
       "      <td>42.184780</td>\n",
       "      <td>NaN</td>\n",
       "      <td>0.968071</td>\n",
       "      <td>NaN</td>\n",
       "      <td>NaN</td>\n",
       "      <td>571.0</td>\n",
       "      <td>...</td>\n",
       "      <td>90319.87844</td>\n",
       "      <td>41.124964</td>\n",
       "      <td>0.025432</td>\n",
       "      <td>NaN</td>\n",
       "      <td>180.0</td>\n",
       "      <td>84003.99161</td>\n",
       "      <td>42.376586</td>\n",
       "      <td>1.327755</td>\n",
       "      <td>NaN</td>\n",
       "      <td>391.0</td>\n",
       "    </tr>\n",
       "    <tr>\n",
       "      <th>4</th>\n",
       "      <td>01/05/2004</td>\n",
       "      <td>Aberdeenshire</td>\n",
       "      <td>S12000034</td>\n",
       "      <td>86379.95396</td>\n",
       "      <td>43.208353</td>\n",
       "      <td>NaN</td>\n",
       "      <td>2.426403</td>\n",
       "      <td>NaN</td>\n",
       "      <td>NaN</td>\n",
       "      <td>502.0</td>\n",
       "      <td>...</td>\n",
       "      <td>91989.17763</td>\n",
       "      <td>41.885039</td>\n",
       "      <td>1.848208</td>\n",
       "      <td>NaN</td>\n",
       "      <td>167.0</td>\n",
       "      <td>86222.73484</td>\n",
       "      <td>43.495852</td>\n",
       "      <td>2.641235</td>\n",
       "      <td>NaN</td>\n",
       "      <td>335.0</td>\n",
       "    </tr>\n",
       "  </tbody>\n",
       "</table>\n",
       "<p>5 rows × 54 columns</p>\n",
       "</div>"
      ],
      "text/plain": [
       "         Date     RegionName   AreaCode  AveragePrice      Index  IndexSA  \\\n",
       "0  01/01/2004  Aberdeenshire  S12000034   81693.66964  40.864214      NaN   \n",
       "1  01/02/2004  Aberdeenshire  S12000034   81678.76231  40.856757      NaN   \n",
       "2  01/03/2004  Aberdeenshire  S12000034   83525.09702  41.780317      NaN   \n",
       "3  01/04/2004  Aberdeenshire  S12000034   84333.67900  42.184780      NaN   \n",
       "4  01/05/2004  Aberdeenshire  S12000034   86379.95396  43.208353      NaN   \n",
       "\n",
       "   1m%Change  12m%Change  AveragePriceSA  SalesVolume  ...     NewPrice  \\\n",
       "0        NaN         NaN             NaN        388.0  ...  88436.13953   \n",
       "1  -0.018248         NaN             NaN        326.0  ...  88606.44649   \n",
       "2   2.260483         NaN             NaN        453.0  ...  90296.91375   \n",
       "3   0.968071         NaN             NaN        571.0  ...  90319.87844   \n",
       "4   2.426403         NaN             NaN        502.0  ...  91989.17763   \n",
       "\n",
       "    NewIndex  New1m%Change  New12m%Change  NewSalesVolume     OldPrice  \\\n",
       "0  40.267250           NaN            NaN           103.0  81043.95084   \n",
       "1  40.344795      0.192576            NaN           107.0  80965.29542   \n",
       "2  41.114508      1.907838            NaN           140.0  82903.23948   \n",
       "3  41.124964      0.025432            NaN           180.0  84003.99161   \n",
       "4  41.885039      1.848208            NaN           167.0  86222.73484   \n",
       "\n",
       "    OldIndex  Old1m%Change  Old12m%Change  OldSalesVolume  \n",
       "0  40.883367           NaN            NaN           285.0  \n",
       "1  40.843688     -0.097053            NaN           219.0  \n",
       "2  41.821302      2.393549            NaN           313.0  \n",
       "3  42.376586      1.327755            NaN           391.0  \n",
       "4  43.495852      2.641235            NaN           335.0  \n",
       "\n",
       "[5 rows x 54 columns]"
      ]
     },
     "execution_count": 37,
     "metadata": {},
     "output_type": "execute_result"
    }
   ],
   "source": [
    "hous.head()"
   ]
  },
  {
   "cell_type": "markdown",
   "metadata": {},
   "source": [
    "We have monthly data by LAD"
   ]
  },
  {
   "cell_type": "markdown",
   "metadata": {},
   "source": [
    "## 2. Process data"
   ]
  },
  {
   "cell_type": "code",
   "execution_count": 38,
   "metadata": {},
   "outputs": [
    {
     "data": {
      "text/plain": [
       "(128961, 54)"
      ]
     },
     "execution_count": 38,
     "metadata": {},
     "output_type": "execute_result"
    }
   ],
   "source": [
    "hous.shape"
   ]
  },
  {
   "cell_type": "code",
   "execution_count": 39,
   "metadata": {},
   "outputs": [],
   "source": [
    "#Create a year variable to assess that coverage\n",
    "hous['year'] = [int(x.split('/')[-1]) for x in hous['Date']]"
   ]
  },
  {
   "cell_type": "code",
   "execution_count": 40,
   "metadata": {},
   "outputs": [
    {
     "data": {
      "text/plain": [
       "<matplotlib.axes._subplots.AxesSubplot at 0x1a1c73c370>"
      ]
     },
     "execution_count": 40,
     "metadata": {},
     "output_type": "execute_result"
    },
    {
     "data": {
      "image/png": "[encoded data removed]",
      "text/plain": [
       "<Figure size 720x360 with 1 Axes>"
      ]
     },
     "metadata": {
      "needs_background": "light"
     },
     "output_type": "display_data"
    }
   ],
   "source": [
    "hous['year'].value_counts().plot.bar(figsize=(10,5))"
   ]
  },
  {
   "cell_type": "markdown",
   "metadata": {},
   "source": [
    "We seem to have good coverage since around the mid 2000s. Is this linked to geography?"
   ]
  },
  {
   "cell_type": "code",
   "execution_count": 41,
   "metadata": {},
   "outputs": [],
   "source": [
    "#The first letter in an area code tells us if a field is in Scotland, England or Wales\n",
    "hous['nation'] = [x[0] for x in hous['AreaCode']]"
   ]
  },
  {
   "cell_type": "code",
   "execution_count": 42,
   "metadata": {},
   "outputs": [
    {
     "data": {
      "text/plain": [
       "<matplotlib.axes._subplots.AxesSubplot at 0x1a199a4550>"
      ]
     },
     "execution_count": 42,
     "metadata": {},
     "output_type": "execute_result"
    },
    {
     "data": {
      "image/png": "[encoded data removed]",
      "text/plain": [
       "<Figure size 432x288 with 1 Axes>"
      ]
     },
     "metadata": {
      "needs_background": "light"
     },
     "output_type": "display_data"
    }
   ],
   "source": [
    "pd.crosstab(hous['nation'],hous['year']).T.plot()"
   ]
  },
  {
   "cell_type": "markdown",
   "metadata": {},
   "source": [
    "Yes, nations are added at various points in time. We will focus on the 2010s. Note that 2019 doesn't seem to be complete. \n",
    "\n",
    "And what is that K?"
   ]
  },
  {
   "cell_type": "code",
   "execution_count": 43,
   "metadata": {},
   "outputs": [
    {
     "data": {
      "text/html": [
       "<div>\n",
       "<style scoped>\n",
       "    .dataframe tbody tr th:only-of-type {\n",
       "        vertical-align: middle;\n",
       "    }\n",
       "\n",
       "    .dataframe tbody tr th {\n",
       "        vertical-align: top;\n",
       "    }\n",
       "\n",
       "    .dataframe thead th {\n",
       "        text-align: right;\n",
       "    }\n",
       "</style>\n",
       "<table border=\"1\" class=\"dataframe\">\n",
       "  <thead>\n",
       "    <tr style=\"text-align: right;\">\n",
       "      <th></th>\n",
       "      <th>Date</th>\n",
       "      <th>RegionName</th>\n",
       "      <th>AreaCode</th>\n",
       "      <th>AveragePrice</th>\n",
       "      <th>Index</th>\n",
       "      <th>IndexSA</th>\n",
       "      <th>1m%Change</th>\n",
       "      <th>12m%Change</th>\n",
       "      <th>AveragePriceSA</th>\n",
       "      <th>SalesVolume</th>\n",
       "      <th>...</th>\n",
       "      <th>New1m%Change</th>\n",
       "      <th>New12m%Change</th>\n",
       "      <th>NewSalesVolume</th>\n",
       "      <th>OldPrice</th>\n",
       "      <th>OldIndex</th>\n",
       "      <th>Old1m%Change</th>\n",
       "      <th>Old12m%Change</th>\n",
       "      <th>OldSalesVolume</th>\n",
       "      <th>year</th>\n",
       "      <th>nation</th>\n",
       "    </tr>\n",
       "  </thead>\n",
       "  <tbody>\n",
       "    <tr>\n",
       "      <th>39103</th>\n",
       "      <td>01/01/1995</td>\n",
       "      <td>England and Wales</td>\n",
       "      <td>K04000001</td>\n",
       "      <td>52623.15800</td>\n",
       "      <td>26.440075</td>\n",
       "      <td>26.63423</td>\n",
       "      <td>NaN</td>\n",
       "      <td>NaN</td>\n",
       "      <td>53009.58689</td>\n",
       "      <td>49630.0</td>\n",
       "      <td>...</td>\n",
       "      <td>NaN</td>\n",
       "      <td>NaN</td>\n",
       "      <td>5533.0</td>\n",
       "      <td>51848.30164</td>\n",
       "      <td>26.422792</td>\n",
       "      <td>NaN</td>\n",
       "      <td>NaN</td>\n",
       "      <td>44097.0</td>\n",
       "      <td>1995</td>\n",
       "      <td>K</td>\n",
       "    </tr>\n",
       "    <tr>\n",
       "      <th>39104</th>\n",
       "      <td>01/02/1995</td>\n",
       "      <td>England and Wales</td>\n",
       "      <td>K04000001</td>\n",
       "      <td>52481.96248</td>\n",
       "      <td>26.369132</td>\n",
       "      <td>26.61621</td>\n",
       "      <td>-0.268314</td>\n",
       "      <td>NaN</td>\n",
       "      <td>52973.72072</td>\n",
       "      <td>50028.0</td>\n",
       "      <td>...</td>\n",
       "      <td>0.561758</td>\n",
       "      <td>NaN</td>\n",
       "      <td>6620.0</td>\n",
       "      <td>51641.78354</td>\n",
       "      <td>26.317547</td>\n",
       "      <td>-0.398312</td>\n",
       "      <td>NaN</td>\n",
       "      <td>43408.0</td>\n",
       "      <td>1995</td>\n",
       "      <td>K</td>\n",
       "    </tr>\n",
       "    <tr>\n",
       "      <th>39105</th>\n",
       "      <td>01/03/1995</td>\n",
       "      <td>England and Wales</td>\n",
       "      <td>K04000001</td>\n",
       "      <td>52545.64496</td>\n",
       "      <td>26.401129</td>\n",
       "      <td>26.56096</td>\n",
       "      <td>0.121342</td>\n",
       "      <td>NaN</td>\n",
       "      <td>52863.75897</td>\n",
       "      <td>70158.0</td>\n",
       "      <td>...</td>\n",
       "      <td>0.343269</td>\n",
       "      <td>NaN</td>\n",
       "      <td>9895.0</td>\n",
       "      <td>51686.43464</td>\n",
       "      <td>26.340302</td>\n",
       "      <td>0.086463</td>\n",
       "      <td>NaN</td>\n",
       "      <td>60263.0</td>\n",
       "      <td>1995</td>\n",
       "      <td>K</td>\n",
       "    </tr>\n",
       "    <tr>\n",
       "      <th>39106</th>\n",
       "      <td>01/04/1995</td>\n",
       "      <td>England and Wales</td>\n",
       "      <td>K04000001</td>\n",
       "      <td>52950.99620</td>\n",
       "      <td>26.604794</td>\n",
       "      <td>26.48197</td>\n",
       "      <td>0.771427</td>\n",
       "      <td>NaN</td>\n",
       "      <td>52706.53560</td>\n",
       "      <td>59413.0</td>\n",
       "      <td>...</td>\n",
       "      <td>-0.574579</td>\n",
       "      <td>NaN</td>\n",
       "      <td>7859.0</td>\n",
       "      <td>52195.49033</td>\n",
       "      <td>26.599726</td>\n",
       "      <td>0.984892</td>\n",
       "      <td>NaN</td>\n",
       "      <td>51554.0</td>\n",
       "      <td>1995</td>\n",
       "      <td>K</td>\n",
       "    </tr>\n",
       "    <tr>\n",
       "      <th>39107</th>\n",
       "      <td>01/05/1995</td>\n",
       "      <td>England and Wales</td>\n",
       "      <td>K04000001</td>\n",
       "      <td>53031.88727</td>\n",
       "      <td>26.645437</td>\n",
       "      <td>26.39754</td>\n",
       "      <td>0.152766</td>\n",
       "      <td>NaN</td>\n",
       "      <td>52538.50479</td>\n",
       "      <td>66877.0</td>\n",
       "      <td>...</td>\n",
       "      <td>0.532283</td>\n",
       "      <td>NaN</td>\n",
       "      <td>9253.0</td>\n",
       "      <td>52244.12311</td>\n",
       "      <td>26.624510</td>\n",
       "      <td>0.093174</td>\n",
       "      <td>NaN</td>\n",
       "      <td>57624.0</td>\n",
       "      <td>1995</td>\n",
       "      <td>K</td>\n",
       "    </tr>\n",
       "  </tbody>\n",
       "</table>\n",
       "<p>5 rows × 56 columns</p>\n",
       "</div>"
      ],
      "text/plain": [
       "             Date         RegionName   AreaCode  AveragePrice      Index  \\\n",
       "39103  01/01/1995  England and Wales  K04000001   52623.15800  26.440075   \n",
       "39104  01/02/1995  England and Wales  K04000001   52481.96248  26.369132   \n",
       "39105  01/03/1995  England and Wales  K04000001   52545.64496  26.401129   \n",
       "39106  01/04/1995  England and Wales  K04000001   52950.99620  26.604794   \n",
       "39107  01/05/1995  England and Wales  K04000001   53031.88727  26.645437   \n",
       "\n",
       "        IndexSA  1m%Change  12m%Change  AveragePriceSA  SalesVolume  ...  \\\n",
       "39103  26.63423        NaN         NaN     53009.58689      49630.0  ...   \n",
       "39104  26.61621  -0.268314         NaN     52973.72072      50028.0  ...   \n",
       "39105  26.56096   0.121342         NaN     52863.75897      70158.0  ...   \n",
       "39106  26.48197   0.771427         NaN     52706.53560      59413.0  ...   \n",
       "39107  26.39754   0.152766         NaN     52538.50479      66877.0  ...   \n",
       "\n",
       "       New1m%Change  New12m%Change  NewSalesVolume     OldPrice   OldIndex  \\\n",
       "39103           NaN            NaN          5533.0  51848.30164  26.422792   \n",
       "39104      0.561758            NaN          6620.0  51641.78354  26.317547   \n",
       "39105      0.343269            NaN          9895.0  51686.43464  26.340302   \n",
       "39106     -0.574579            NaN          7859.0  52195.49033  26.599726   \n",
       "39107      0.532283            NaN          9253.0  52244.12311  26.624510   \n",
       "\n",
       "       Old1m%Change  Old12m%Change  OldSalesVolume  year  nation  \n",
       "39103           NaN            NaN         44097.0  1995       K  \n",
       "39104     -0.398312            NaN         43408.0  1995       K  \n",
       "39105      0.086463            NaN         60263.0  1995       K  \n",
       "39106      0.984892            NaN         51554.0  1995       K  \n",
       "39107      0.093174            NaN         57624.0  1995       K  \n",
       "\n",
       "[5 rows x 56 columns]"
      ]
     },
     "execution_count": 43,
     "metadata": {},
     "output_type": "execute_result"
    }
   ],
   "source": [
    "hous.loc[hous['nation']=='K'].head()"
   ]
  },
  {
   "cell_type": "markdown",
   "metadata": {},
   "source": [
    "We found that it is the England and Wales aggregation"
   ]
  },
  {
   "cell_type": "code",
   "execution_count": 44,
   "metadata": {},
   "outputs": [],
   "source": [
    "#Subset to focus on the most recent period\n",
    "\n",
    "hous_recent = hous.loc[hous['year']>=2010]"
   ]
  },
  {
   "cell_type": "markdown",
   "metadata": {},
   "source": [
    "## Transformation\n",
    "\n",
    "Since the data is available at the LAD (NUTS3) level we need to aggregate into LADS. We will multiply `AveragePrice` by `SalesVolume` for this."
   ]
  },
  {
   "cell_type": "code",
   "execution_count": 45,
   "metadata": {},
   "outputs": [
    {
     "name": "stderr",
     "output_type": "stream",
     "text": [
      "<ipython-input-45-d5ac245bef40>:1: SettingWithCopyWarning: \n",
      "A value is trying to be set on a copy of a slice from a DataFrame.\n",
      "Try using .loc[row_indexer,col_indexer] = value instead\n",
      "\n",
      "See the caveats in the documentation: http://pandas.pydata.org/pandas-docs/stable/user_guide/indexing.html#returning-a-view-versus-a-copy\n",
      "  hous_recent['total_sales'] = hous_recent['AveragePrice']*hous_recent['SalesVolume']\n"
     ]
    }
   ],
   "source": [
    "hous_recent['total_sales'] = hous_recent['AveragePrice']*hous_recent['SalesVolume']"
   ]
  },
  {
   "cell_type": "code",
   "execution_count": 46,
   "metadata": {},
   "outputs": [],
   "source": [
    "house_year = hous_recent.groupby(['RegionName','AreaCode','year'])['total_sales'].sum()"
   ]
  },
  {
   "cell_type": "code",
   "execution_count": 47,
   "metadata": {},
   "outputs": [],
   "source": [
    "house_year_wide = house_year.reset_index(drop=False).pivot_table(index=['RegionName','AreaCode'],columns='year',values='total_sales',aggfunc='sum')"
   ]
  },
  {
   "cell_type": "code",
   "execution_count": 48,
   "metadata": {},
   "outputs": [
    {
     "data": {
      "text/html": [
       "<div>\n",
       "<style scoped>\n",
       "    .dataframe tbody tr th:only-of-type {\n",
       "        vertical-align: middle;\n",
       "    }\n",
       "\n",
       "    .dataframe tbody tr th {\n",
       "        vertical-align: top;\n",
       "    }\n",
       "\n",
       "    .dataframe thead th {\n",
       "        text-align: right;\n",
       "    }\n",
       "</style>\n",
       "<table border=\"1\" class=\"dataframe\">\n",
       "  <thead>\n",
       "    <tr style=\"text-align: right;\">\n",
       "      <th></th>\n",
       "      <th>year</th>\n",
       "      <th>2010</th>\n",
       "      <th>2011</th>\n",
       "      <th>2012</th>\n",
       "      <th>2013</th>\n",
       "      <th>2014</th>\n",
       "      <th>2015</th>\n",
       "      <th>2016</th>\n",
       "      <th>2017</th>\n",
       "      <th>2018</th>\n",
       "      <th>2019</th>\n",
       "    </tr>\n",
       "    <tr>\n",
       "      <th>RegionName</th>\n",
       "      <th>AreaCode</th>\n",
       "      <th></th>\n",
       "      <th></th>\n",
       "      <th></th>\n",
       "      <th></th>\n",
       "      <th></th>\n",
       "      <th></th>\n",
       "      <th></th>\n",
       "      <th></th>\n",
       "      <th></th>\n",
       "      <th></th>\n",
       "    </tr>\n",
       "  </thead>\n",
       "  <tbody>\n",
       "    <tr>\n",
       "      <th>Aberdeenshire</th>\n",
       "      <th>S12000034</th>\n",
       "      <td>7.579935e+08</td>\n",
       "      <td>7.516283e+08</td>\n",
       "      <td>7.664437e+08</td>\n",
       "      <td>9.388898e+08</td>\n",
       "      <td>1.127599e+09</td>\n",
       "      <td>1.019902e+09</td>\n",
       "      <td>7.736225e+08</td>\n",
       "      <td>7.994695e+08</td>\n",
       "      <td>7.512882e+08</td>\n",
       "      <td>3.537788e+08</td>\n",
       "    </tr>\n",
       "    <tr>\n",
       "      <th>Adur</th>\n",
       "      <th>E07000223</th>\n",
       "      <td>1.806500e+08</td>\n",
       "      <td>2.014896e+08</td>\n",
       "      <td>2.108185e+08</td>\n",
       "      <td>2.254409e+08</td>\n",
       "      <td>2.810465e+08</td>\n",
       "      <td>2.919113e+08</td>\n",
       "      <td>3.273564e+08</td>\n",
       "      <td>3.274533e+08</td>\n",
       "      <td>3.177828e+08</td>\n",
       "      <td>1.312343e+08</td>\n",
       "    </tr>\n",
       "    <tr>\n",
       "      <th>Allerdale</th>\n",
       "      <th>E07000026</th>\n",
       "      <td>1.561267e+08</td>\n",
       "      <td>1.510788e+08</td>\n",
       "      <td>1.399378e+08</td>\n",
       "      <td>1.808563e+08</td>\n",
       "      <td>2.128089e+08</td>\n",
       "      <td>2.150594e+08</td>\n",
       "      <td>2.099644e+08</td>\n",
       "      <td>2.327719e+08</td>\n",
       "      <td>2.350042e+08</td>\n",
       "      <td>1.043371e+08</td>\n",
       "    </tr>\n",
       "    <tr>\n",
       "      <th>Amber Valley</th>\n",
       "      <th>E07000032</th>\n",
       "      <td>2.057691e+08</td>\n",
       "      <td>1.958332e+08</td>\n",
       "      <td>1.933983e+08</td>\n",
       "      <td>2.372675e+08</td>\n",
       "      <td>3.012660e+08</td>\n",
       "      <td>3.328212e+08</td>\n",
       "      <td>3.712400e+08</td>\n",
       "      <td>3.750379e+08</td>\n",
       "      <td>3.922881e+08</td>\n",
       "      <td>1.802822e+08</td>\n",
       "    </tr>\n",
       "    <tr>\n",
       "      <th>Angus</th>\n",
       "      <th>S12000041</th>\n",
       "      <td>2.039300e+08</td>\n",
       "      <td>1.770249e+08</td>\n",
       "      <td>1.774406e+08</td>\n",
       "      <td>2.267696e+08</td>\n",
       "      <td>2.685474e+08</td>\n",
       "      <td>2.830707e+08</td>\n",
       "      <td>2.744535e+08</td>\n",
       "      <td>2.976981e+08</td>\n",
       "      <td>2.902438e+08</td>\n",
       "      <td>1.353140e+08</td>\n",
       "    </tr>\n",
       "  </tbody>\n",
       "</table>\n",
       "</div>"
      ],
      "text/plain": [
       "year                             2010          2011          2012  \\\n",
       "RegionName    AreaCode                                              \n",
       "Aberdeenshire S12000034  7.579935e+08  7.516283e+08  7.664437e+08   \n",
       "Adur          E07000223  1.806500e+08  2.014896e+08  2.108185e+08   \n",
       "Allerdale     E07000026  1.561267e+08  1.510788e+08  1.399378e+08   \n",
       "Amber Valley  E07000032  2.057691e+08  1.958332e+08  1.933983e+08   \n",
       "Angus         S12000041  2.039300e+08  1.770249e+08  1.774406e+08   \n",
       "\n",
       "year                             2013          2014          2015  \\\n",
       "RegionName    AreaCode                                              \n",
       "Aberdeenshire S12000034  9.388898e+08  1.127599e+09  1.019902e+09   \n",
       "Adur          E07000223  2.254409e+08  2.810465e+08  2.919113e+08   \n",
       "Allerdale     E07000026  1.808563e+08  2.128089e+08  2.150594e+08   \n",
       "Amber Valley  E07000032  2.372675e+08  3.012660e+08  3.328212e+08   \n",
       "Angus         S12000041  2.267696e+08  2.685474e+08  2.830707e+08   \n",
       "\n",
       "year                             2016          2017          2018  \\\n",
       "RegionName    AreaCode                                              \n",
       "Aberdeenshire S12000034  7.736225e+08  7.994695e+08  7.512882e+08   \n",
       "Adur          E07000223  3.273564e+08  3.274533e+08  3.177828e+08   \n",
       "Allerdale     E07000026  2.099644e+08  2.327719e+08  2.350042e+08   \n",
       "Amber Valley  E07000032  3.712400e+08  3.750379e+08  3.922881e+08   \n",
       "Angus         S12000041  2.744535e+08  2.976981e+08  2.902438e+08   \n",
       "\n",
       "year                             2019  \n",
       "RegionName    AreaCode                 \n",
       "Aberdeenshire S12000034  3.537788e+08  \n",
       "Adur          E07000223  1.312343e+08  \n",
       "Allerdale     E07000026  1.043371e+08  \n",
       "Amber Valley  E07000032  1.802822e+08  \n",
       "Angus         S12000041  1.353140e+08  "
      ]
     },
     "execution_count": 48,
     "metadata": {},
     "output_type": "execute_result"
    }
   ],
   "source": [
    "house_year_wide.head()"
   ]
  },
  {
   "cell_type": "code",
   "execution_count": 49,
   "metadata": {},
   "outputs": [
    {
     "data": {
      "text/plain": [
       "RegionName                AreaCode \n",
       "United Kingdom            K02000001    2.438676e+11\n",
       "Great Britain             K03000001    2.297140e+11\n",
       "England and Wales         K04000001    2.142956e+11\n",
       "England                   E92000001    2.069768e+11\n",
       "South East                E12000008    4.702713e+10\n",
       "London                    E12000007    4.291038e+10\n",
       "East of England           E12000006    2.895415e+10\n",
       "South West                E12000009    2.563394e+10\n",
       "Outer London              E13000002    2.341445e+10\n",
       "Inner London              E13000001    2.024504e+10\n",
       "North West                E12000002    1.858699e+10\n",
       "West Midlands Region      E12000005    1.687094e+10\n",
       "East Midlands             E12000004    1.530781e+10\n",
       "Scotland                  S92000003    1.500825e+10\n",
       "Yorkshire and The Humber  E12000003    1.373356e+10\n",
       "Northern Ireland          N92000001    9.882000e+09\n",
       "Surrey                    E10000030    7.753751e+09\n",
       "Essex                     E10000012    7.682323e+09\n",
       "Wales                     W92000004    7.636826e+09\n",
       "Kent                      E10000016    7.543886e+09\n",
       "Name: 2018, dtype: float64"
      ]
     },
     "execution_count": 49,
     "metadata": {},
     "output_type": "execute_result"
    }
   ],
   "source": [
    "house_year_wide[2018].sort_values(ascending=False).head(n=20)"
   ]
  },
  {
   "cell_type": "markdown",
   "metadata": {},
   "source": [
    "So the data seem to include, in fact, NUTS2 areas. Now we need to pull them out."
   ]
  },
  {
   "cell_type": "markdown",
   "metadata": {},
   "source": [
    "**We will get NUTS2 codes for 2018 and 2015 and look for them in the data**\n",
    "\n",
    "We use the codes from [Open Geography Portal](https://geoportal.statistics.gov.uk/search?collection=Dataset&sort=name&tags=NAC_NUTS2)"
   ]
  },
  {
   "cell_type": "code",
   "execution_count": 50,
   "metadata": {},
   "outputs": [],
   "source": [
    "#Here is the lookup\n",
    "\n",
    "lad_nuts_lookup = pd.read_csv('https://opendata.arcgis.com/datasets/2a2548641a294734ba4fdb689b12d955_0.csv')"
   ]
  },
  {
   "cell_type": "code",
   "execution_count": 51,
   "metadata": {},
   "outputs": [],
   "source": [
    "house_year_nuts = pd.merge(house_year.reset_index(drop=False),\n",
    "                           lad_nuts_lookup[['LAD16CD','LAD16NM','NUTS318CD','NUTS318NM','NUTS218CD','NUTS218NM']],\n",
    "                           left_on='AreaCode',\n",
    "                           right_on='LAD16CD',how='left')"
   ]
  },
  {
   "cell_type": "code",
   "execution_count": 52,
   "metadata": {},
   "outputs": [
    {
     "data": {
      "text/html": [
       "<div>\n",
       "<style scoped>\n",
       "    .dataframe tbody tr th:only-of-type {\n",
       "        vertical-align: middle;\n",
       "    }\n",
       "\n",
       "    .dataframe tbody tr th {\n",
       "        vertical-align: top;\n",
       "    }\n",
       "\n",
       "    .dataframe thead th {\n",
       "        text-align: right;\n",
       "    }\n",
       "</style>\n",
       "<table border=\"1\" class=\"dataframe\">\n",
       "  <thead>\n",
       "    <tr style=\"text-align: right;\">\n",
       "      <th></th>\n",
       "      <th>RegionName</th>\n",
       "      <th>AreaCode</th>\n",
       "      <th>year</th>\n",
       "      <th>total_sales</th>\n",
       "      <th>LAD16CD</th>\n",
       "      <th>LAD16NM</th>\n",
       "      <th>NUTS318CD</th>\n",
       "      <th>NUTS318NM</th>\n",
       "      <th>NUTS218CD</th>\n",
       "      <th>NUTS218NM</th>\n",
       "    </tr>\n",
       "  </thead>\n",
       "  <tbody>\n",
       "    <tr>\n",
       "      <th>0</th>\n",
       "      <td>Aberdeenshire</td>\n",
       "      <td>S12000034</td>\n",
       "      <td>2010</td>\n",
       "      <td>7.579935e+08</td>\n",
       "      <td>S12000034</td>\n",
       "      <td>Aberdeenshire</td>\n",
       "      <td>UKM50</td>\n",
       "      <td>Aberdeen City and Aberdeenshire</td>\n",
       "      <td>UKM5</td>\n",
       "      <td>North Eastern Scotland</td>\n",
       "    </tr>\n",
       "    <tr>\n",
       "      <th>1</th>\n",
       "      <td>Aberdeenshire</td>\n",
       "      <td>S12000034</td>\n",
       "      <td>2011</td>\n",
       "      <td>7.516283e+08</td>\n",
       "      <td>S12000034</td>\n",
       "      <td>Aberdeenshire</td>\n",
       "      <td>UKM50</td>\n",
       "      <td>Aberdeen City and Aberdeenshire</td>\n",
       "      <td>UKM5</td>\n",
       "      <td>North Eastern Scotland</td>\n",
       "    </tr>\n",
       "    <tr>\n",
       "      <th>2</th>\n",
       "      <td>Aberdeenshire</td>\n",
       "      <td>S12000034</td>\n",
       "      <td>2012</td>\n",
       "      <td>7.664437e+08</td>\n",
       "      <td>S12000034</td>\n",
       "      <td>Aberdeenshire</td>\n",
       "      <td>UKM50</td>\n",
       "      <td>Aberdeen City and Aberdeenshire</td>\n",
       "      <td>UKM5</td>\n",
       "      <td>North Eastern Scotland</td>\n",
       "    </tr>\n",
       "    <tr>\n",
       "      <th>3</th>\n",
       "      <td>Aberdeenshire</td>\n",
       "      <td>S12000034</td>\n",
       "      <td>2013</td>\n",
       "      <td>9.388898e+08</td>\n",
       "      <td>S12000034</td>\n",
       "      <td>Aberdeenshire</td>\n",
       "      <td>UKM50</td>\n",
       "      <td>Aberdeen City and Aberdeenshire</td>\n",
       "      <td>UKM5</td>\n",
       "      <td>North Eastern Scotland</td>\n",
       "    </tr>\n",
       "    <tr>\n",
       "      <th>4</th>\n",
       "      <td>Aberdeenshire</td>\n",
       "      <td>S12000034</td>\n",
       "      <td>2014</td>\n",
       "      <td>1.127599e+09</td>\n",
       "      <td>S12000034</td>\n",
       "      <td>Aberdeenshire</td>\n",
       "      <td>UKM50</td>\n",
       "      <td>Aberdeen City and Aberdeenshire</td>\n",
       "      <td>UKM5</td>\n",
       "      <td>North Eastern Scotland</td>\n",
       "    </tr>\n",
       "  </tbody>\n",
       "</table>\n",
       "</div>"
      ],
      "text/plain": [
       "      RegionName   AreaCode  year   total_sales    LAD16CD        LAD16NM  \\\n",
       "0  Aberdeenshire  S12000034  2010  7.579935e+08  S12000034  Aberdeenshire   \n",
       "1  Aberdeenshire  S12000034  2011  7.516283e+08  S12000034  Aberdeenshire   \n",
       "2  Aberdeenshire  S12000034  2012  7.664437e+08  S12000034  Aberdeenshire   \n",
       "3  Aberdeenshire  S12000034  2013  9.388898e+08  S12000034  Aberdeenshire   \n",
       "4  Aberdeenshire  S12000034  2014  1.127599e+09  S12000034  Aberdeenshire   \n",
       "\n",
       "  NUTS318CD                        NUTS318NM NUTS218CD               NUTS218NM  \n",
       "0     UKM50  Aberdeen City and Aberdeenshire      UKM5  North Eastern Scotland  \n",
       "1     UKM50  Aberdeen City and Aberdeenshire      UKM5  North Eastern Scotland  \n",
       "2     UKM50  Aberdeen City and Aberdeenshire      UKM5  North Eastern Scotland  \n",
       "3     UKM50  Aberdeen City and Aberdeenshire      UKM5  North Eastern Scotland  \n",
       "4     UKM50  Aberdeen City and Aberdeenshire      UKM5  North Eastern Scotland  "
      ]
     },
     "execution_count": 52,
     "metadata": {},
     "output_type": "execute_result"
    }
   ],
   "source": [
    "house_year_nuts.head()"
   ]
  },
  {
   "cell_type": "code",
   "execution_count": 53,
   "metadata": {},
   "outputs": [
    {
     "name": "stdout",
     "output_type": "stream",
     "text": [
      "4410\n",
      "4500\n"
     ]
    }
   ],
   "source": [
    "print(len(house_year))\n",
    "\n",
    "print(len(house_year_nuts))"
   ]
  },
  {
   "cell_type": "markdown",
   "metadata": {},
   "source": [
    "There are some missing locations in the merge. What are they?"
   ]
  },
  {
   "cell_type": "code",
   "execution_count": 54,
   "metadata": {},
   "outputs": [
    {
     "data": {
      "text/plain": [
       "Surrey            10\n",
       "East Sussex       10\n",
       "Staffordshire     10\n",
       "Hampshire         10\n",
       "West Yorkshire    10\n",
       "Name: RegionName, dtype: int64"
      ]
     },
     "execution_count": 54,
     "metadata": {},
     "output_type": "execute_result"
    }
   ],
   "source": [
    "house_year_nuts.loc[house_year_nuts['NUTS218NM'].isna()]['RegionName'].value_counts().head()"
   ]
  },
  {
   "cell_type": "markdown",
   "metadata": {},
   "source": [
    "They are the non-LAD regions in the data. We are ok to drop them"
   ]
  },
  {
   "cell_type": "code",
   "execution_count": 55,
   "metadata": {},
   "outputs": [],
   "source": [
    "house_year_nuts = house_year_nuts.dropna(axis=0)"
   ]
  },
  {
   "cell_type": "markdown",
   "metadata": {},
   "source": [
    "And now we calculate the NUTS2 estimates"
   ]
  },
  {
   "cell_type": "code",
   "execution_count": 56,
   "metadata": {},
   "outputs": [],
   "source": [
    "house_year_nuts_2 = house_year_nuts.groupby(['NUTS218CD','NUTS218NM','year'])['total_sales'].sum()"
   ]
  },
  {
   "cell_type": "code",
   "execution_count": 57,
   "metadata": {},
   "outputs": [],
   "source": [
    "house_year_nuts_2_wide = house_year_nuts_2.reset_index(drop=False).pivot_table(index=['NUTS218CD','NUTS218NM'],columns='year',values='total_sales').sort_values(\n",
    "    2018,ascending=False)"
   ]
  },
  {
   "cell_type": "code",
   "execution_count": 58,
   "metadata": {},
   "outputs": [
    {
     "data": {
      "text/plain": [
       "<matplotlib.axes._subplots.AxesSubplot at 0x1a19cad1f0>"
      ]
     },
     "execution_count": 58,
     "metadata": {},
     "output_type": "execute_result"
    },
    {
     "data": {
      "image/png": "[encoded data removed]",
      "text/plain": [
       "<Figure size 432x288 with 1 Axes>"
      ]
     },
     "metadata": {
      "needs_background": "light"
     },
     "output_type": "display_data"
    }
   ],
   "source": [
    "#Mean volume of sales per NUTS2 area /year?\n",
    "house_year_nuts_2_wide.describe().loc['mean'].plot()"
   ]
  },
  {
   "cell_type": "markdown",
   "metadata": {},
   "source": [
    "We note much less activity in 2019 because the House Price Index data is laggy. We will therefore remove 2019 from the analysis and save the data"
   ]
  },
  {
   "cell_type": "code",
   "execution_count": 59,
   "metadata": {},
   "outputs": [],
   "source": [
    "house_final = house_year_nuts_2.reset_index(drop=False).query('year != 2019')"
   ]
  },
  {
   "cell_type": "markdown",
   "metadata": {},
   "source": [
    "## 3. Save data"
   ]
  },
  {
   "cell_type": "code",
   "execution_count": 60,
   "metadata": {},
   "outputs": [],
   "source": [
    "save_data(house_final,name='nuts_house_prices',path='../../data/interim/housing/')"
   ]
  },
  {
   "cell_type": "code",
   "execution_count": null,
   "metadata": {},
   "outputs": [],
   "source": []
  }
 ],
 "metadata": {
  "kernelspec": {
   "display_name": "Python 3",
   "language": "python",
   "name": "python3"
  },
  "language_info": {
   "codemirror_mode": {
    "name": "ipython",
    "version": 3
   },
   "file_extension": ".py",
   "mimetype": "text/x-python",
   "name": "python",
   "nbconvert_exporter": "python",
   "pygments_lexer": "ipython3",
   "version": "3.8.1"
  }
 },
 "nbformat": 4,
 "nbformat_minor": 4
}
