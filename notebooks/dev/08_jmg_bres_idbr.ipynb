{
 "cells": [
  {
   "cell_type": "markdown",
   "metadata": {},
   "source": [
    "# Official data indicators\n",
    "\n",
    "Here we create indicators of industrial activity in NUTS2 areas based on BRES and NOMIS data.\n",
    "\n",
    "We have already collected the data by running `make data` in the terminal. This has stored the BRES and IDBR data in the `data/external/` folder, and processed it into Nesta segments (a shorter number of industrial categories) in `data/processed`\n",
    "\n",
    "Here we create a clean table for the most recent year, and an indicator of the share of employment working in high median salary occupations according to the ashe data we calculated in `0-jmg-ashe_sectoral`.\n"
   ]
  },
  {
   "cell_type": "markdown",
   "metadata": {},
   "source": [
    "## Preamble"
   ]
  },
  {
   "cell_type": "code",
   "execution_count": null,
   "metadata": {},
   "outputs": [],
   "source": [
    "%run ../notebook_preamble.ipy"
   ]
  },
  {
   "cell_type": "code",
   "execution_count": null,
   "metadata": {},
   "outputs": [],
   "source": [
    "#Need to put this in utils\n",
    "def make_dirs(name,dirs = ['raw','processed']):\n",
    "    '''\n",
    "    Utility that creates directories to save the data\n",
    "    \n",
    "    '''\n",
    "    \n",
    "    for d in dirs:\n",
    "        if name not in os.listdir(f'../../data/{d}'):\n",
    "            os.mkdir(f'../../data/{d}/{name}')"
   ]
  },
  {
   "cell_type": "code",
   "execution_count": null,
   "metadata": {},
   "outputs": [],
   "source": [
    "make_dirs('industry')"
   ]
  },
  {
   "cell_type": "markdown",
   "metadata": {},
   "source": [
    "## Read data"
   ]
  },
  {
   "cell_type": "markdown",
   "metadata": {},
   "source": [
    "### metadata (ASHE)\n",
    "\n",
    "This is a lookup indicating the position in the salary distribution of various industries based on the analysis in the `ashe` notebook"
   ]
  },
  {
   "cell_type": "code",
   "execution_count": null,
   "metadata": {},
   "outputs": [],
   "source": [
    "#Read ashe and turn it into a lookup\n",
    "ashe = pd.read_csv('../../data/processed/official/2019_11_15_ashe_rankings.csv')\n",
    "\n",
    "ashe_lookup = ashe.set_index('cluster')['ashe_median_salary_rank'].to_dict()"
   ]
  },
  {
   "cell_type": "code",
   "execution_count": null,
   "metadata": {},
   "outputs": [],
   "source": [
    "#bres\n",
    "bres_2018 = pd.read_csv('../../data/processed/official/nomis_BRES_2018_TYPE450.csv',dtype={'SIC4':str})\n",
    "\n",
    "bres_2018['sal'] = bres_2018['cluster_name'].map(ashe_lookup)"
   ]
  },
  {
   "cell_type": "code",
   "execution_count": null,
   "metadata": {},
   "outputs": [],
   "source": [
    "def create_local_industry_dataset(path,salary_lookup,cluster_name,save=True):\n",
    "    '''\n",
    "    This creates a long dataset with industry activity per NUTS area and extra variables with share of activity in top two deciles\n",
    "    of salary, and bottom two deciles of salary\n",
    "    \n",
    "    Arguments:\n",
    "        path (str) path to a tidy dataframe with the industrial activity information (could be employment or establishments)\n",
    "        salary_lookup (dict) a lookup between industry segments and position in the salary distribution\n",
    "        cluster_name (str) name of the cluster variable in the industry df\n",
    "    \n",
    "    '''\n",
    "    #Read the data\n",
    "    industry = pd.read_csv(path,dtype={'SIC4':str})\n",
    "    \n",
    "    #Label with salary info\n",
    "    industry['median_salary_decile'] = industry[cluster_name].map(ashe_lookup)\n",
    "    \n",
    "    #Create wide dataset with industry activity per geography\n",
    "    industry_long = industry.groupby(\n",
    "        ['geo_nm','geo_cd',cluster_name])['value'].sum().reset_index(drop=False).pivot_table(\n",
    "        index=['geo_nm','geo_cd'],columns=cluster_name,values='value')\n",
    "    \n",
    "    #Share of activity in top and bottom of salary distribution\n",
    "    salary_long = industry.groupby(\n",
    "        ['geo_nm','geo_cd','median_salary_decile'])['value'].sum().reset_index(drop=False).pivot_table(\n",
    "        index=['geo_nm','geo_cd'],columns='median_salary_decile',values='value')\n",
    "    \n",
    "    #Top of distro\n",
    "    high_salary = salary_long.apply(lambda x: x/x.sum(),axis=1)[[8,9]].sum(axis=1)\n",
    "    \n",
    "    #Bottom of distro\n",
    "    low_salary = salary_long.apply(lambda x: x/x.sum(),axis=1)[[0,1]].sum(axis=1)\n",
    "    \n",
    "    salary_stats = pd.concat([high_salary,low_salary],axis=1)\n",
    "    \n",
    "    #Names\n",
    "    salary_stats.columns = ['top_20_salary_share','bottom_20_salary_share']\n",
    "    \n",
    "    #Concatenate\n",
    "    combined = pd.concat([industry_long,salary_stats],axis=1)\n",
    "    \n",
    "    if save==True:\n",
    "        \n",
    "        #Take the informative bit of the name\n",
    "        name = '_'.join(path.split('_')[1:3])\n",
    "        \n",
    "        combined.to_csv(f'../../data/processed/industry/{today_str}_{name}_industry_salary.csv')\n",
    "        \n",
    "    \n",
    "    #Return everything\n",
    "    return(pd.concat([industry_long,salary_stats],axis=1))\n",
    "    \n",
    "    #return(salary_long)\n",
    "    "
   ]
  },
  {
   "cell_type": "code",
   "execution_count": null,
   "metadata": {},
   "outputs": [],
   "source": [
    "bres_nuts = create_local_industry_dataset('../../data/processed/official/nomis_BRES_2018_TYPE450.csv',ashe_lookup,'cluster_name')\n",
    "\n",
    "idbr_nuts = create_local_industry_dataset('../../data/processed/official/nomis_IDBR_2018_TYPE450.csv',ashe_lookup,'cluster_name')"
   ]
  },
  {
   "cell_type": "code",
   "execution_count": null,
   "metadata": {},
   "outputs": [],
   "source": [
    "bres_nuts.head()"
   ]
  },
  {
   "cell_type": "code",
   "execution_count": null,
   "metadata": {},
   "outputs": [],
   "source": []
  }
 ],
 "metadata": {
  "language_info": {
   "name": "python",
   "pygments_lexer": "ipython3"
  }
 },
 "nbformat": 4,
 "nbformat_minor": 2
}
