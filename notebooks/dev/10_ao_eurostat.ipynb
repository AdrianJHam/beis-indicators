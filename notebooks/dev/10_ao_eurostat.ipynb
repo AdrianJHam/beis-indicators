{
 "cells": [
  {
   "cell_type": "markdown",
   "metadata": {},
   "source": [
    "# Eurostat\n",
    "Code to collect and process eurostat data to create the following indicators:\n",
    "\n",
    "* Private sector R&D workforce\n",
    "* Business Enterprise R&D (BERD)\n",
    "* Share if hugh growth firms \n",
    "\n",
    "Raw data collected using the Eurostat API via the `EuroStat API Client` python package (https://pypi.org/project/eurostatapiclient/)."
   ]
  },
  {
   "cell_type": "markdown",
   "metadata": {},
   "source": [
    "## Preamble"
   ]
  },
  {
   "cell_type": "code",
   "execution_count": 1,
   "metadata": {},
   "outputs": [],
   "source": [
    "from eurostatapiclient import EurostatAPIClient\n",
    "\n",
    "import numpy as np\n",
    "import pandas as pd"
   ]
  },
  {
   "cell_type": "code",
   "execution_count": 2,
   "metadata": {},
   "outputs": [],
   "source": [
    "VERSION = 'v2.1'\n",
    "FORMAT = 'json'\n",
    "LANGUAGE = 'en'"
   ]
  },
  {
   "cell_type": "code",
   "execution_count": 3,
   "metadata": {},
   "outputs": [],
   "source": [
    "client = EurostatAPIClient(VERSION, FORMAT, LANGUAGE)"
   ]
  },
  {
   "cell_type": "markdown",
   "metadata": {
    "heading_collapsed": true
   },
   "source": [
    "### Mappings"
   ]
  },
  {
   "cell_type": "code",
   "execution_count": 4,
   "metadata": {
    "hidden": true
   },
   "outputs": [],
   "source": [
    "nuts2_map = {\n",
    "    'UKC1': 'Tees Valley and Durham',\n",
    "    'UKC2': 'Northumberland and Tyne and Wear',\n",
    "    'UKD1': 'Cumbria',\n",
    "    'UKD6': 'Cheshire',\n",
    "    'UKD3': 'Greater Manchester',\n",
    "    'UKD4': 'Lancashire',\n",
    "    'UKD7': 'Merseyside',\n",
    "    'UKE1': 'East Riding and North Lincolnshire', \n",
    "    'UKE2': 'North Yorkshire',\n",
    "    'UKE3': 'South Yorkshire',\n",
    "    'UKE4': 'West Yorkshire', \n",
    "    'UKF1': 'Derbyshire and Nottinghamshire',\n",
    "    'UKF2': 'Leicestershire, Rutland and Northamptonshire', \n",
    "    'UKF3': 'Lincolnshire', \n",
    "    'UKG1': 'Herefordshire, Worcestershire and Warwickshire',\n",
    "    'UKG2': 'Shropshire and Staffordshire',\n",
    "    'UKG3': 'West Midlands', \n",
    "    'UKH1': 'East Anglia', \n",
    "    'UKH2': 'Bedfordshire and Hertfordshire',\n",
    "    'UKH3': 'Essex',\n",
    "    'UKI3': 'Inner London - West', \n",
    "    'UKI4': 'Inner London - East',\n",
    "    'UKI5': 'Outer London - East and North East',\n",
    "    'UKI6': 'Outer London - South', \n",
    "    'UKI7': 'Outer London - West and North West',\n",
    "    'UKJ1': 'Berkshire, Buckinghamshire, and Oxfordshire', \n",
    "    'UKJ2': 'Surrey, East and West Sussex',\n",
    "    'UKJ3': 'Hampshire and Isle of Wight', \n",
    "    'UKJ4': 'Kent', \n",
    "    'UKK1': 'Gloucestershire, Wiltshire and Bristol/Bath area', \n",
    "    'UKK2': 'Dorset and Somerset', \n",
    "    'UKK3': 'Cornwall and Isles of Scilly',\n",
    "    'UKK4': 'Devon',\n",
    "    'UKL1': 'West Wales and The Valleys',\n",
    "    'UKL2': 'East Wales', \n",
    "    'UKM2': 'Eastern Scotland', \n",
    "    'UKM3': 'South Western Scotland', \n",
    "    'UKM5': 'North Eastern Scotland',\n",
    "    'UKM6': 'Highlands and Islands', \n",
    "    'UKN0': 'Northern Ireland', \n",
    "    'UKZZ': 'Extra-regio NUTS 2'\n",
    "    \n",
    "}"
   ]
  },
  {
   "cell_type": "code",
   "execution_count": 5,
   "metadata": {
    "hidden": true
   },
   "outputs": [],
   "source": [
    "vars_map = {\n",
    "    'EUR_HAB': 'Euro per inhabitant',\n",
    "    'MIO_EUR': 'Euros (Millions)',\n",
    "    'FTE': 'Full time equivalent (FTE)',\n",
    "    'HC': 'Head Count(HC)', \n",
    "    'PC_ACT_FTE': '% of active population- FTE',\n",
    "    'PC_ACT_HC': '% of active population- HC'\n",
    "}"
   ]
  },
  {
   "cell_type": "markdown",
   "metadata": {},
   "source": [
    "## Data Collection, Processing & Transformation\n",
    "\n",
    "This section is made up with three sections- one for each indicator. Each section is broken down in the following steps:\n",
    "\n",
    "* Use the python package to pull down flattened data by entering using a query & put into a dataframe\n",
    "* Collect the subset for UK NUTS2 regions\n",
    "* Replace the codes with the label associated \n",
    "* Data is transformed into a pivot table to output the desired format"
   ]
  },
  {
   "cell_type": "markdown",
   "metadata": {},
   "source": [
    "### Private sector R&D workforce data"
   ]
  },
  {
   "cell_type": "code",
   "execution_count": 7,
   "metadata": {},
   "outputs": [
    {
     "name": "stdout",
     "output_type": "stream",
     "text": [
      "Total R&D personnel and researchers by sectors of performance, sex and NUTS 2 regions\n"
     ]
    }
   ],
   "source": [
    "#pull in data\n",
    "data_priv_nuts2 = client.get_dataset('rd_p_persreg?sinceTimePeriod=2012&geoLevel=nuts2&precision=1&sex=T&sectperf=BES&prof_pos=TOTAL&unit=FTE&unit=HC&unit=PC_ACT_FTE&unit=PC_ACT_HC')\n",
    "\n",
    "print(data_priv_nuts2.label)\n",
    "\n",
    "dataframe_priv_nuts2 = data_priv_nuts2.to_dataframe()"
   ]
  },
  {
   "cell_type": "code",
   "execution_count": 9,
   "metadata": {},
   "outputs": [],
   "source": [
    "#UK NUTS2 regions subset\n",
    "dataframe_priv_nuts2_uk = dataframe_priv_nuts2[dataframe_priv_nuts2['geo'].str.contains('UK')]"
   ]
  },
  {
   "cell_type": "code",
   "execution_count": 10,
   "metadata": {},
   "outputs": [
    {
     "name": "stderr",
     "output_type": "stream",
     "text": [
      "/home/ao95/.local/lib/python3.6/site-packages/ipykernel_launcher.py:1: SettingWithCopyWarning: \n",
      "A value is trying to be set on a copy of a slice from a DataFrame.\n",
      "Try using .loc[row_indexer,col_indexer] = value instead\n",
      "\n",
      "See the caveats in the documentation: http://pandas.pydata.org/pandas-docs/stable/user_guide/indexing.html#returning-a-view-versus-a-copy\n",
      "  \"\"\"Entry point for launching an IPython kernel.\n"
     ]
    }
   ],
   "source": [
    "#mappings\n",
    "dataframe_priv_nuts2_uk['geo'] = dataframe_priv_nuts2_uk['geo'].map(nuts2_map)\n",
    "dataframe_priv_nuts2_uk['unit'] = dataframe_priv_nuts2_uk['unit'].map(vars_map)"
   ]
  },
  {
   "cell_type": "code",
   "execution_count": 27,
   "metadata": {},
   "outputs": [],
   "source": [
    "#pivot table\n",
    "d_priv = dataframe_priv_nuts2_uk.pivot_table(index=['geo','time'],\n",
    "               columns = 'unit',\n",
    "               values = 'values').reset_index().set_index('geo')"
   ]
  },
  {
   "cell_type": "code",
   "execution_count": 29,
   "metadata": {},
   "outputs": [],
   "source": [
    "#save data\n",
    "d_priv.to_csv('../../data/processed/eurostat/17_12_2019_eurostat_private_rd_data.csv')"
   ]
  },
  {
   "cell_type": "markdown",
   "metadata": {},
   "source": [
    "### Business Enterprise R&D (BERD) data"
   ]
  },
  {
   "cell_type": "code",
   "execution_count": 39,
   "metadata": {},
   "outputs": [],
   "source": [
    "#pull in data\n",
    "data_berd_nuts2 = client.get_dataset('rd_e_gerdreg?sinceTimePeriod=2012&geoLevel=nuts2&precision=1&sectperf=BES&unit=EUR_HAB&unit=MIO_EUR')\n",
    "\n",
    "print(data_berd_nuts2.label)\n",
    "\n",
    "dataframe_berd_nuts2 = data_berd_nuts2.to_dataframe()"
   ]
  },
  {
   "cell_type": "code",
   "execution_count": 42,
   "metadata": {},
   "outputs": [],
   "source": [
    "#UK NUTS2 regions subset\n",
    "dataframe_berd_nuts2_uk = dataframe_berd_nuts2[dataframe_berd_nuts2['geo'].str.contains('UK')]"
   ]
  },
  {
   "cell_type": "code",
   "execution_count": 44,
   "metadata": {},
   "outputs": [
    {
     "name": "stderr",
     "output_type": "stream",
     "text": [
      "/home/ao95/.local/lib/python3.6/site-packages/ipykernel_launcher.py:1: SettingWithCopyWarning: \n",
      "A value is trying to be set on a copy of a slice from a DataFrame.\n",
      "Try using .loc[row_indexer,col_indexer] = value instead\n",
      "\n",
      "See the caveats in the documentation: http://pandas.pydata.org/pandas-docs/stable/user_guide/indexing.html#returning-a-view-versus-a-copy\n",
      "  \"\"\"Entry point for launching an IPython kernel.\n"
     ]
    }
   ],
   "source": [
    "#mappings\n",
    "dataframe_berd_nuts2_uk['geo'] = dataframe_berd_nuts2_uk['geo'].map(nuts2_map)\n",
    "dataframe_berd_nuts2_uk['unit'] = dataframe_berd_nuts2_uk['unit'].map(vars_map)"
   ]
  },
  {
   "cell_type": "code",
   "execution_count": 48,
   "metadata": {},
   "outputs": [],
   "source": [
    "#pivot table\n",
    "d_berd = dataframe_berd_nuts2_uk.pivot_table(index=['geo','time'],\n",
    "               columns = 'unit',\n",
    "               values = 'values').reset_index().set_index('geo')"
   ]
  },
  {
   "cell_type": "code",
   "execution_count": 49,
   "metadata": {},
   "outputs": [],
   "source": [
    "#save data\n",
    "d_berd.to_csv('../../data/processed/eurostat/17_12_2019_eurostat_berd_data.csv')"
   ]
  },
  {
   "cell_type": "markdown",
   "metadata": {},
   "source": [
    "### Share of high growth firms"
   ]
  },
  {
   "cell_type": "code",
   "execution_count": 86,
   "metadata": {},
   "outputs": [],
   "source": [
    "#pull in data\n",
    "data_share_nuts2 = client.get_dataset('bd_hgnace2_r3?sinceTimePeriod=2012&geoLevel=nuts2&precision=1&indic_sb=V97460&nace_r2=B-E&nace_r2=B-S_X_K642&nace_r2=F&nace_r2=G&nace_r2=H&nace_r2=I&nace_r2=J&nace_r2=K_L_X_K642&nace_r2=M_N&nace_r2=P_Q&nace_r2=R_S')\n",
    "\n",
    "print(data_share_nuts2.label)\n",
    "\n",
    "dataframe_share_nuts2 = data_share_nuts2.to_dataframe()"
   ]
  },
  {
   "cell_type": "code",
   "execution_count": 76,
   "metadata": {
    "scrolled": true
   },
   "outputs": [
    {
     "data": {
      "text/html": [
       "<div>\n",
       "<style scoped>\n",
       "    .dataframe tbody tr th:only-of-type {\n",
       "        vertical-align: middle;\n",
       "    }\n",
       "\n",
       "    .dataframe tbody tr th {\n",
       "        vertical-align: top;\n",
       "    }\n",
       "\n",
       "    .dataframe thead th {\n",
       "        text-align: right;\n",
       "    }\n",
       "</style>\n",
       "<table border=\"1\" class=\"dataframe\">\n",
       "  <thead>\n",
       "    <tr style=\"text-align: right;\">\n",
       "      <th></th>\n",
       "      <th>values</th>\n",
       "      <th>indic_sb</th>\n",
       "      <th>nace_r2</th>\n",
       "      <th>geo</th>\n",
       "      <th>time</th>\n",
       "    </tr>\n",
       "  </thead>\n",
       "  <tbody>\n",
       "    <tr>\n",
       "      <th>0</th>\n",
       "      <td>7.80</td>\n",
       "      <td>V97460</td>\n",
       "      <td>B-S_X_K642</td>\n",
       "      <td>AT11</td>\n",
       "      <td>2012</td>\n",
       "    </tr>\n",
       "    <tr>\n",
       "      <th>1</th>\n",
       "      <td>7.13</td>\n",
       "      <td>V97460</td>\n",
       "      <td>B-S_X_K642</td>\n",
       "      <td>AT11</td>\n",
       "      <td>2013</td>\n",
       "    </tr>\n",
       "    <tr>\n",
       "      <th>2</th>\n",
       "      <td>6.16</td>\n",
       "      <td>V97460</td>\n",
       "      <td>B-S_X_K642</td>\n",
       "      <td>AT11</td>\n",
       "      <td>2014</td>\n",
       "    </tr>\n",
       "    <tr>\n",
       "      <th>3</th>\n",
       "      <td>5.76</td>\n",
       "      <td>V97460</td>\n",
       "      <td>B-S_X_K642</td>\n",
       "      <td>AT11</td>\n",
       "      <td>2015</td>\n",
       "    </tr>\n",
       "    <tr>\n",
       "      <th>4</th>\n",
       "      <td>7.03</td>\n",
       "      <td>V97460</td>\n",
       "      <td>B-S_X_K642</td>\n",
       "      <td>AT11</td>\n",
       "      <td>2016</td>\n",
       "    </tr>\n",
       "    <tr>\n",
       "      <th>...</th>\n",
       "      <td>...</td>\n",
       "      <td>...</td>\n",
       "      <td>...</td>\n",
       "      <td>...</td>\n",
       "      <td>...</td>\n",
       "    </tr>\n",
       "    <tr>\n",
       "      <th>895</th>\n",
       "      <td>9.67</td>\n",
       "      <td>V97460</td>\n",
       "      <td>B-S_X_K642</td>\n",
       "      <td>SK04</td>\n",
       "      <td>2012</td>\n",
       "    </tr>\n",
       "    <tr>\n",
       "      <th>896</th>\n",
       "      <td>10.03</td>\n",
       "      <td>V97460</td>\n",
       "      <td>B-S_X_K642</td>\n",
       "      <td>SK04</td>\n",
       "      <td>2013</td>\n",
       "    </tr>\n",
       "    <tr>\n",
       "      <th>897</th>\n",
       "      <td>10.04</td>\n",
       "      <td>V97460</td>\n",
       "      <td>B-S_X_K642</td>\n",
       "      <td>SK04</td>\n",
       "      <td>2014</td>\n",
       "    </tr>\n",
       "    <tr>\n",
       "      <th>898</th>\n",
       "      <td>11.51</td>\n",
       "      <td>V97460</td>\n",
       "      <td>B-S_X_K642</td>\n",
       "      <td>SK04</td>\n",
       "      <td>2015</td>\n",
       "    </tr>\n",
       "    <tr>\n",
       "      <th>899</th>\n",
       "      <td>12.81</td>\n",
       "      <td>V97460</td>\n",
       "      <td>B-S_X_K642</td>\n",
       "      <td>SK04</td>\n",
       "      <td>2016</td>\n",
       "    </tr>\n",
       "  </tbody>\n",
       "</table>\n",
       "<p>900 rows × 5 columns</p>\n",
       "</div>"
      ],
      "text/plain": [
       "     values indic_sb     nace_r2   geo  time\n",
       "0      7.80   V97460  B-S_X_K642  AT11  2012\n",
       "1      7.13   V97460  B-S_X_K642  AT11  2013\n",
       "2      6.16   V97460  B-S_X_K642  AT11  2014\n",
       "3      5.76   V97460  B-S_X_K642  AT11  2015\n",
       "4      7.03   V97460  B-S_X_K642  AT11  2016\n",
       "..      ...      ...         ...   ...   ...\n",
       "895    9.67   V97460  B-S_X_K642  SK04  2012\n",
       "896   10.03   V97460  B-S_X_K642  SK04  2013\n",
       "897   10.04   V97460  B-S_X_K642  SK04  2014\n",
       "898   11.51   V97460  B-S_X_K642  SK04  2015\n",
       "899   12.81   V97460  B-S_X_K642  SK04  2016\n",
       "\n",
       "[900 rows x 5 columns]"
      ]
     },
     "execution_count": 76,
     "metadata": {},
     "output_type": "execute_result"
    }
   ],
   "source": [
    "dataframe_share_nuts2[dataframe_share_nuts2['geo'] == 'UKC1']"
   ]
  },
  {
   "cell_type": "code",
   "execution_count": 65,
   "metadata": {},
   "outputs": [],
   "source": [
    "#UK NUTS2 regions subset\n",
    "\n",
    "dataframe_share_nuts2_uk = dataframe_share_nuts2[dataframe_share_nuts2['geo'].str.contains('UK')]"
   ]
  },
  {
   "cell_type": "code",
   "execution_count": 67,
   "metadata": {},
   "outputs": [
    {
     "data": {
      "text/html": [
       "<div>\n",
       "<style scoped>\n",
       "    .dataframe tbody tr th:only-of-type {\n",
       "        vertical-align: middle;\n",
       "    }\n",
       "\n",
       "    .dataframe tbody tr th {\n",
       "        vertical-align: top;\n",
       "    }\n",
       "\n",
       "    .dataframe thead th {\n",
       "        text-align: right;\n",
       "    }\n",
       "</style>\n",
       "<table border=\"1\" class=\"dataframe\">\n",
       "  <thead>\n",
       "    <tr style=\"text-align: right;\">\n",
       "      <th></th>\n",
       "      <th>values</th>\n",
       "      <th>indic_sb</th>\n",
       "      <th>nace_r2</th>\n",
       "      <th>geo</th>\n",
       "      <th>time</th>\n",
       "    </tr>\n",
       "  </thead>\n",
       "  <tbody>\n",
       "  </tbody>\n",
       "</table>\n",
       "</div>"
      ],
      "text/plain": [
       "Empty DataFrame\n",
       "Columns: [values, indic_sb, nace_r2, geo, time]\n",
       "Index: []"
      ]
     },
     "execution_count": 67,
     "metadata": {},
     "output_type": "execute_result"
    }
   ],
   "source": [
    "dataframe_share_nuts2_uk"
   ]
  },
  {
   "cell_type": "code",
   "execution_count": 66,
   "metadata": {},
   "outputs": [
    {
     "data": {
      "text/html": [
       "<div>\n",
       "<style scoped>\n",
       "    .dataframe tbody tr th:only-of-type {\n",
       "        vertical-align: middle;\n",
       "    }\n",
       "\n",
       "    .dataframe tbody tr th {\n",
       "        vertical-align: top;\n",
       "    }\n",
       "\n",
       "    .dataframe thead tr th {\n",
       "        text-align: left;\n",
       "    }\n",
       "\n",
       "    .dataframe thead tr:last-of-type th {\n",
       "        text-align: right;\n",
       "    }\n",
       "</style>\n",
       "<table border=\"1\" class=\"dataframe\">\n",
       "  <thead>\n",
       "    <tr>\n",
       "      <th>geo</th>\n",
       "      <th>time</th>\n",
       "    </tr>\n",
       "  </thead>\n",
       "  <tbody>\n",
       "  </tbody>\n",
       "</table>\n",
       "</div>"
      ],
      "text/plain": [
       "Empty DataFrame\n",
       "Columns: []\n",
       "Index: []"
      ]
     },
     "execution_count": 66,
     "metadata": {},
     "output_type": "execute_result"
    }
   ],
   "source": [
    "dataframe_share_nuts2_uk.pivot_table(index=['geo','time'],\n",
    "               columns = 'indic_sb',\n",
    "               values = 'values')"
   ]
  },
  {
   "cell_type": "markdown",
   "metadata": {},
   "source": [
    "Note: Does not seem to be UK NUTS2 values for this dataset"
   ]
  }
 ],
 "metadata": {
  "kernelspec": {
   "display_name": "Python 3",
   "language": "python",
   "name": "python3"
  },
  "language_info": {
   "codemirror_mode": {
    "name": "ipython",
    "version": 3
   },
   "file_extension": ".py",
   "mimetype": "text/x-python",
   "name": "python",
   "nbconvert_exporter": "python",
   "pygments_lexer": "ipython3",
   "version": "3.6.9"
  },
  "toc": {
   "base_numbering": 1,
   "nav_menu": {},
   "number_sections": true,
   "sideBar": true,
   "skip_h1_title": false,
   "title_cell": "Table of Contents",
   "title_sidebar": "Contents",
   "toc_cell": false,
   "toc_position": {},
   "toc_section_display": true,
   "toc_window_display": false
  }
 },
 "nbformat": 4,
 "nbformat_minor": 2
}
