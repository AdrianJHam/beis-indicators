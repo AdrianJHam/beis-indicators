{
 "cells": [
  {
   "cell_type": "markdown",
   "metadata": {},
   "source": [
    "# Eurostat\n",
    "Code to collect and process eurostat data to create the following indicators:\n",
    "\n",
    "* Private sector R&D workforce\n",
    "* Business Enterprise R&D (BERD)\n",
    "* Share if hugh growth firms \n",
    "\n",
    "Raw data collected using the Eurostat API via the `EuroStat API Client` python package (https://pypi.org/project/eurostatapiclient/)."
   ]
  },
  {
   "cell_type": "markdown",
   "metadata": {},
   "source": [
    "## Preamble"
   ]
  },
  {
   "cell_type": "code",
   "execution_count": null,
   "metadata": {},
   "outputs": [],
   "source": [
    "from eurostatapiclient import EurostatAPIClient\n",
    "\n",
    "import numpy as np\n",
    "import pandas as pd"
   ]
  },
  {
   "cell_type": "code",
   "execution_count": null,
   "metadata": {},
   "outputs": [],
   "source": [
    "VERSION = 'v2.1'\n",
    "FORMAT = 'json'\n",
    "LANGUAGE = 'en'"
   ]
  },
  {
   "cell_type": "code",
   "execution_count": null,
   "metadata": {},
   "outputs": [],
   "source": [
    "client = EurostatAPIClient(VERSION, FORMAT, LANGUAGE)"
   ]
  },
  {
   "cell_type": "markdown",
   "metadata": {
    "heading_collapsed": true
   },
   "source": [
    "### Mappings"
   ]
  },
  {
   "cell_type": "code",
   "execution_count": null,
   "metadata": {
    "hidden": true
   },
   "outputs": [],
   "source": [
    "nuts2_map = {\n",
    "    'UKC1': 'Tees Valley and Durham',\n",
    "    'UKC2': 'Northumberland and Tyne and Wear',\n",
    "    'UKD1': 'Cumbria',\n",
    "    'UKD6': 'Cheshire',\n",
    "    'UKD3': 'Greater Manchester',\n",
    "    'UKD4': 'Lancashire',\n",
    "    'UKD7': 'Merseyside',\n",
    "    'UKE1': 'East Riding and North Lincolnshire', \n",
    "    'UKE2': 'North Yorkshire',\n",
    "    'UKE3': 'South Yorkshire',\n",
    "    'UKE4': 'West Yorkshire', \n",
    "    'UKF1': 'Derbyshire and Nottinghamshire',\n",
    "    'UKF2': 'Leicestershire, Rutland and Northamptonshire', \n",
    "    'UKF3': 'Lincolnshire', \n",
    "    'UKG1': 'Herefordshire, Worcestershire and Warwickshire',\n",
    "    'UKG2': 'Shropshire and Staffordshire',\n",
    "    'UKG3': 'West Midlands', \n",
    "    'UKH1': 'East Anglia', \n",
    "    'UKH2': 'Bedfordshire and Hertfordshire',\n",
    "    'UKH3': 'Essex',\n",
    "    'UKI3': 'Inner London - West', \n",
    "    'UKI4': 'Inner London - East',\n",
    "    'UKI5': 'Outer London - East and North East',\n",
    "    'UKI6': 'Outer London - South', \n",
    "    'UKI7': 'Outer London - West and North West',\n",
    "    'UKJ1': 'Berkshire, Buckinghamshire, and Oxfordshire', \n",
    "    'UKJ2': 'Surrey, East and West Sussex',\n",
    "    'UKJ3': 'Hampshire and Isle of Wight', \n",
    "    'UKJ4': 'Kent', \n",
    "    'UKK1': 'Gloucestershire, Wiltshire and Bristol/Bath area', \n",
    "    'UKK2': 'Dorset and Somerset', \n",
    "    'UKK3': 'Cornwall and Isles of Scilly',\n",
    "    'UKK4': 'Devon',\n",
    "    'UKL1': 'West Wales and The Valleys',\n",
    "    'UKL2': 'East Wales', \n",
    "    'UKM2': 'Eastern Scotland', \n",
    "    'UKM3': 'South Western Scotland', \n",
    "    'UKM5': 'North Eastern Scotland',\n",
    "    'UKM6': 'Highlands and Islands', \n",
    "    'UKN0': 'Northern Ireland', \n",
    "    'UKZZ': 'Extra-regio NUTS 2'\n",
    "    \n",
    "}"
   ]
  },
  {
   "cell_type": "code",
   "execution_count": null,
   "metadata": {
    "hidden": true
   },
   "outputs": [],
   "source": [
    "vars_map = {\n",
    "    'EUR_HAB': 'euro per inhabitant',\n",
    "    'MIO_EUR': 'euros (Millions)',\n",
    "    'FTE': 'full time equivalent (FTE)',\n",
    "    'HC': 'head count(HC)', \n",
    "    'PC_ACT_FTE': 'percentage of active population- FTE',\n",
    "    'PC_ACT_HC': 'percentage of active population- HC'\n",
    "}"
   ]
  },
  {
   "cell_type": "markdown",
   "metadata": {},
   "source": [
    "## Data Collection, Processing & Transformation\n",
    "\n",
    "This section is made up with three sections- one for each indicator. Each section is broken down in the following steps:\n",
    "\n",
    "* Use the python package to pull down flattened data by entering using a query & put into a dataframe\n",
    "* Collect the subset for UK NUTS2 regions\n",
    "* Replace the codes with the label associated \n",
    "* Data is transformed into a pivot table to output the desired format"
   ]
  },
  {
   "cell_type": "markdown",
   "metadata": {
    "heading_collapsed": true
   },
   "source": [
    "### Private sector R&D workforce data"
   ]
  },
  {
   "cell_type": "code",
   "execution_count": null,
   "metadata": {
    "hidden": true
   },
   "outputs": [],
   "source": [
    "#pull in data\n",
    "data_priv_nuts2 = client.get_dataset('rd_p_persreg?sinceTimePeriod=2012&geoLevel=nuts2&precision=1&sex=T&sectperf=BES&prof_pos=TOTAL&unit=FTE&unit=HC&unit=PC_ACT_FTE&unit=PC_ACT_HC')\n",
    "\n",
    "print(data_priv_nuts2.label)\n",
    "\n",
    "dataframe_priv_nuts2 = data_priv_nuts2.to_dataframe()"
   ]
  },
  {
   "cell_type": "code",
   "execution_count": null,
   "metadata": {
    "hidden": true
   },
   "outputs": [],
   "source": [
    "#UK NUTS2 regions subset\n",
    "dataframe_priv_nuts2_uk = dataframe_priv_nuts2[dataframe_priv_nuts2['geo'].str.contains('UK')]"
   ]
  },
  {
   "cell_type": "code",
   "execution_count": null,
   "metadata": {
    "hidden": true
   },
   "outputs": [],
   "source": [
    "#mappings\n",
    "dataframe_priv_nuts2_uk['time'] = dataframe_priv_nuts2_uk['time'].astype(int)\n",
    "dataframe_priv_nuts2_uk['geo_name'] = dataframe_priv_nuts2_uk['geo'].map(nuts2_map)\n",
    "dataframe_priv_nuts2_uk['unit'] = dataframe_priv_nuts2_uk['unit'].map(vars_map)"
   ]
  },
  {
   "cell_type": "code",
   "execution_count": null,
   "metadata": {
    "hidden": true
   },
   "outputs": [],
   "source": [
    "#pivot table\n",
    "d_priv = dataframe_priv_nuts2_uk.pivot_table(index=['geo_name','geo','time'],\n",
    "               columns = 'unit',\n",
    "               values = 'values').reset_index().set_index('geo_name')"
   ]
  },
  {
   "cell_type": "code",
   "execution_count": null,
   "metadata": {
    "hidden": true
   },
   "outputs": [],
   "source": [
    "#save data\n",
    "d_priv.to_csv('../../data/processed/eurostat/eurostat_private_rd_workforce_data.csv')"
   ]
  },
  {
   "cell_type": "markdown",
   "metadata": {
    "heading_collapsed": true
   },
   "source": [
    "### Business Enterprise R&D (BERD) data"
   ]
  },
  {
   "cell_type": "code",
   "execution_count": null,
   "metadata": {
    "hidden": true
   },
   "outputs": [],
   "source": [
    "#pull in data\n",
    "data_berd_nuts2 = client.get_dataset('rd_e_gerdreg?sinceTimePeriod=2012&geoLevel=nuts2&precision=1&sectperf=BES&unit=EUR_HAB&unit=MIO_EUR')\n",
    "\n",
    "print(data_berd_nuts2.label)\n",
    "\n",
    "dataframe_berd_nuts2 = data_berd_nuts2.to_dataframe()"
   ]
  },
  {
   "cell_type": "code",
   "execution_count": null,
   "metadata": {
    "hidden": true
   },
   "outputs": [],
   "source": [
    "#UK NUTS2 regions subset\n",
    "dataframe_berd_nuts2_uk = dataframe_berd_nuts2[dataframe_berd_nuts2['geo'].str.contains('UK')]"
   ]
  },
  {
   "cell_type": "code",
   "execution_count": null,
   "metadata": {
    "hidden": true
   },
   "outputs": [],
   "source": [
    "#mappings\n",
    "dataframe_berd_nuts2_uk['time'] = dataframe_berd_nuts2_uk['time'].astype(int)\n",
    "dataframe_berd_nuts2_uk['geo_name'] = dataframe_berd_nuts2_uk['geo'].map(nuts2_map)\n",
    "dataframe_berd_nuts2_uk['unit'] = dataframe_berd_nuts2_uk['unit'].map(vars_map)"
   ]
  },
  {
   "cell_type": "code",
   "execution_count": null,
   "metadata": {
    "hidden": true
   },
   "outputs": [],
   "source": [
    "#pivot table\n",
    "d_berd = dataframe_berd_nuts2_uk.pivot_table(index=['geo_name','geo','time'],\n",
    "               columns = 'unit',\n",
    "               values = 'values').reset_index().set_index('geo_name')"
   ]
  },
  {
   "cell_type": "code",
   "execution_count": null,
   "metadata": {
    "hidden": true
   },
   "outputs": [],
   "source": [
    "#save data\n",
    "d_berd.to_csv('../../data/processed/eurostat/eurostat_berd_data.csv')"
   ]
  },
  {
   "cell_type": "markdown",
   "metadata": {
    "heading_collapsed": true
   },
   "source": [
    "### Share of high growth firms"
   ]
  },
  {
   "cell_type": "code",
   "execution_count": null,
   "metadata": {
    "hidden": true
   },
   "outputs": [],
   "source": [
    "#pull in data\n",
    "data_share_nuts2 = client.get_dataset('bd_hgnace2_r3?sinceTimePeriod=2012&geoLevel=nuts2&precision=1&indic_sb=V97460&nace_r2=B-E&nace_r2=B-S_X_K642&nace_r2=F&nace_r2=G&nace_r2=H&nace_r2=I&nace_r2=J&nace_r2=K_L_X_K642&nace_r2=M_N&nace_r2=P_Q&nace_r2=R_S')\n",
    "\n",
    "print(data_share_nuts2.label)\n",
    "\n",
    "dataframe_share_nuts2 = data_share_nuts2.to_dataframe()"
   ]
  },
  {
   "cell_type": "code",
   "execution_count": null,
   "metadata": {
    "hidden": true,
    "scrolled": true
   },
   "outputs": [],
   "source": [
    "dataframe_share_nuts2[dataframe_share_nuts2['geo'] == 'UKC1']"
   ]
  },
  {
   "cell_type": "code",
   "execution_count": null,
   "metadata": {
    "hidden": true
   },
   "outputs": [],
   "source": [
    "#UK NUTS2 regions subset\n",
    "\n",
    "dataframe_share_nuts2_uk = dataframe_share_nuts2[dataframe_share_nuts2['geo'].str.contains('UK')]"
   ]
  },
  {
   "cell_type": "code",
   "execution_count": null,
   "metadata": {
    "hidden": true
   },
   "outputs": [],
   "source": [
    "dataframe_share_nuts2_uk"
   ]
  },
  {
   "cell_type": "code",
   "execution_count": null,
   "metadata": {
    "hidden": true
   },
   "outputs": [],
   "source": [
    "dataframe_share_nuts2_uk.pivot_table(index=['geo','time'],\n",
    "               columns = 'indic_sb',\n",
    "               values = 'values')"
   ]
  },
  {
   "cell_type": "markdown",
   "metadata": {
    "hidden": true
   },
   "source": [
    "Note: Does not seem to be UK NUTS2 values for this dataset"
   ]
  }
 ],
 "metadata": {
  "kernelspec": {
   "display_name": "Python 3",
   "language": "python",
   "name": "python3"
  },
  "language_info": {
   "codemirror_mode": {
    "name": "ipython",
    "version": 3
   },
   "file_extension": ".py",
   "mimetype": "text/x-python",
   "name": "python",
   "nbconvert_exporter": "python",
   "pygments_lexer": "ipython3",
   "version": "3.6.9"
  },
  "toc": {
   "base_numbering": 1,
   "nav_menu": {},
   "number_sections": true,
   "sideBar": true,
   "skip_h1_title": false,
   "title_cell": "Table of Contents",
   "title_sidebar": "Contents",
   "toc_cell": false,
   "toc_position": {},
   "toc_section_display": true,
   "toc_window_display": false
  }
 },
 "nbformat": 4,
 "nbformat_minor": 2
}
