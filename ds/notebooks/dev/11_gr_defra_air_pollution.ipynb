{
 "cells": [
  {
   "cell_type": "code",
   "execution_count": null,
   "metadata": {},
   "outputs": [],
   "source": [
    "%run ../notebook_preamble.ipy"
   ]
  },
  {
   "cell_type": "code",
   "execution_count": null,
   "metadata": {},
   "outputs": [],
   "source": [
    "import pyproj\n",
    "import geopandas as gpd\n",
    "import shapely\n",
    "import os\n",
    "from datetime import datetime\n",
    "from zipfile import ZipFile\n",
    "import logging\n",
    "\n",
    "shapely.speedups.enable()"
   ]
  },
  {
   "cell_type": "code",
   "execution_count": null,
   "metadata": {},
   "outputs": [],
   "source": [
    "from beis_indicators.utils.nuts_utils import nuts_earliest"
   ]
  },
  {
   "cell_type": "code",
   "execution_count": null,
   "metadata": {},
   "outputs": [],
   "source": [
    "current_year = datetime.utcnow().year - 1\n",
    "years = range(2007, current_year)"
   ]
  },
  {
   "cell_type": "markdown",
   "metadata": {},
   "source": [
    "## DEFRA Data Collection"
   ]
  },
  {
   "cell_type": "markdown",
   "metadata": {},
   "source": [
    "Modelled data for air pollution across the UK is compiled by DEFRA. The values are obtained by using the data from monitoring stations and using atmospheric modelling to interpolate the data to a 1km by 1km grid across the whole country."
   ]
  },
  {
   "cell_type": "markdown",
   "metadata": {},
   "source": [
    "## PM10"
   ]
  },
  {
   "cell_type": "markdown",
   "metadata": {},
   "source": [
    "### Collection"
   ]
  },
  {
   "cell_type": "code",
   "execution_count": null,
   "metadata": {},
   "outputs": [],
   "source": [
    "def get_pollution_data(year, pollution_type):\n",
    "    '''get_pollution_data\n",
    "    Downloads and stores pollution data from https://uk-air.defra.gov.uk/data/pcm-data\n",
    "    \n",
    "    Args:\n",
    "        year (int): Year to collect data from. Check website for coverage.\n",
    "        pollution_type (str): Name of pollutant. Choices are currently pm10 \n",
    "            and pm25, no2 or nox.\n",
    "    '''\n",
    "    \n",
    "    base_url = 'https://uk-air.defra.gov.uk/datastore/pcm/map{}.csv'\n",
    "        \n",
    "    raw_data_dir = f'{project_dir}/data/raw/defra/'\n",
    "    if not os.path.isdir(raw_data_dir):\n",
    "        os.mkdir(raw_data_dir)\n",
    "    \n",
    "    if pollution_type in ['pm10', 'pm25']:\n",
    "        fname = f'{pollution_type}{year}g'\n",
    "    else:\n",
    "        fname = f'{pollution_type}{year}'\n",
    "\n",
    "    df = pd.read_csv(base_url.format(fname), header=5, na_values='MISSING')\n",
    "    df.rename(columns={fname: pollution_type}, inplace=True)\n",
    "\n",
    "    df.to_csv(f'{raw_data_dir}map{pollution_type}{year}.csv', index=False)"
   ]
  },
  {
   "cell_type": "code",
   "execution_count": null,
   "metadata": {},
   "outputs": [],
   "source": [
    "def load_pollution_data(year, pollution_type='pm10'):\n",
    "    '''load_pollution_data\n",
    "    Loads pollution data. If data is not present, downloads from \n",
    "    https://uk-air.defra.gov.uk/data/pcm-data\n",
    "    \n",
    "    Args:\n",
    "        year (int): Year of data to load. Check website for coverage.\n",
    "        pollution_type (str): Name of pollutant. Choices are currently pm10 \n",
    "            and pm25, no2 or nox.\n",
    "\n",
    "    Returns:\n",
    "        (pandas.DataFrame): Modelled pointwise pollution data.\n",
    "    '''\n",
    "    fin = f'{project_dir}/data/raw/defra/map{pollution_type}{year}.csv'\n",
    "    \n",
    "    if not os.path.isfile(fin):\n",
    "        get_pollution_data(year, pollution_type)\n",
    "        \n",
    "    return pd.read_csv(fin)"
   ]
  },
  {
   "cell_type": "code",
   "execution_count": null,
   "metadata": {},
   "outputs": [],
   "source": [
    "get_pollution_data(2007)"
   ]
  },
  {
   "cell_type": "code",
   "execution_count": null,
   "metadata": {},
   "outputs": [],
   "source": [
    "def translate_coordinates(x, y, pin, pout):\n",
    "    '''translate_coordinates\n",
    "    Translates vectors of spatial coordinates from one projection to another.\n",
    "    \n",
    "    Args:\n",
    "        x (array-like): Vector of horizontal spatial coordinates.\n",
    "        y (array-like): Vector of vertical spatial coortinates.\n",
    "        pin (str): Projection of input vectors.\n",
    "        pout (str): Output projection.\n",
    "    \n",
    "    Returns:\n",
    "        (tuple of array-like): Translated coordinate vectors.\n",
    "    '''\n",
    "    proj_in = pyproj.Proj(pin)\n",
    "    proj_out = pyproj.Proj(pout)\n",
    "    return pyproj.transform(proj_in, proj_out, x, y)"
   ]
  },
  {
   "cell_type": "code",
   "execution_count": null,
   "metadata": {},
   "outputs": [],
   "source": [
    "def coordinates_to_points(df, x_coord_name, y_coord_name):\n",
    "    '''coordinates_to_points\n",
    "    Take a DataFrame with coordinate columns and returns a GeoDataFrame with \n",
    "    a single Point geometry column.\n",
    "    \n",
    "    Args:\n",
    "        df (pandas.DataFrame): A DataFrame with spatial coordinate data.\n",
    "        x_coord_name (str): Name of the horizontal coordinate column.\n",
    "        y_coord_name (str): Name of the vertical coordinate column.\n",
    "        \n",
    "    Returns:\n",
    "        (geopandas.GeoDataFrame): GeoDataFrame with Point objects in `geometry` column.\n",
    "    '''\n",
    "    return gpd.GeoDataFrame(df, geometry=gpd.points_from_xy(df[x_coord_name], df[y_coord_name]))"
   ]
  },
  {
   "cell_type": "code",
   "execution_count": null,
   "metadata": {},
   "outputs": [],
   "source": [
    "def load_nuts_regions(year, level=2, projection=4326, resolution=1, countries=['UK']):\n",
    "    '''load_nuts_regions\n",
    "    Loads Eurostat NUTS shapefiles.\n",
    "    \n",
    "    Args:\n",
    "        year (int): NUTS version year.\n",
    "        projection (int): Coordinate projection of shapefile. \n",
    "            Choice of EPSG 3035, 3857 or 4326. Default is 4326\n",
    "        resolution (int): Shapefile resolution in metres.\n",
    "        countries (list): List of 2 letter country codes to filter by. If None, \n",
    "            all regions will be returned. Default is `[\"UK\"]`.\n",
    "    '''\n",
    "    \n",
    "    resolution = str(resolution).zfill(2)\n",
    "\n",
    "    nuts_dir = (f'{data_path}/raw/shapefiles/'\n",
    "                f'ref-nuts-{year}-{resolution}m.shp/'\n",
    "                f'NUTS_RG_{resolution}M_{year}_{projection}_LEVL_{level}.shp')\n",
    "    \n",
    "    if not os.path.isdir(nuts_dir):\n",
    "        with ZipFile(f'{nuts_dir}.zip','r') as archive:\n",
    "            archive.extractall(nuts_dir)\n",
    "        \n",
    "    nuts_fin = (f'{nuts_dir}/'\n",
    "                f'NUTS_RG_{resolution}M_{year}_{projection}_LEVL_{level}.shp')\n",
    "    nuts_gdf = gpd.read_file(nuts_fin)\n",
    "    \n",
    "    if countries is not None:\n",
    "        nuts_gdf = nuts_gdf.set_index('CNTR_CODE').loc[countries].reset_index()\n",
    "        \n",
    "    return nuts_gdf"
   ]
  },
  {
   "cell_type": "code",
   "execution_count": null,
   "metadata": {},
   "outputs": [],
   "source": [
    "def make_air_pollution_nuts(years, pollution_type='pm10', nuts_level=2, aggfunc=np.mean):\n",
    "    '''make_air_pollution_nuts\n",
    "    Creates air pollution indicator for NUTS regions over a range of years, using\n",
    "    modelled point data from DEFRA at a 1km resolution.\n",
    "    \n",
    "    Output is a DataFrame of aggregated values at the level of NUTS regions.\n",
    "    \n",
    "    Args:\n",
    "        years (iter of int): Collects pollution data and creates indicators over\n",
    "            this range of years.\n",
    "        pollution_type (str): Name of pollutant. Choices are currently pm10 \n",
    "            and pm25, no2 or nox. Defaults to pm10.\n",
    "        nuts_level (int): NUTS region level. Can be 1, 2 or 3.\n",
    "        aggfunc (function): Function used to aggregate point data within a region, \n",
    "            for example finding the average, maximum or percentile value. Default \n",
    "            is np.mean.\n",
    "            \n",
    "    Returns:\n",
    "        df (pandas.DataFrame): DataFrame of processed indicator.\n",
    "    '''\n",
    "    \n",
    "    pin = 'epsg:27700'\n",
    "    pout = 'epsg:4326'\n",
    "    \n",
    "    out_dir = f'{data_path}/processed/defra/'\n",
    "    raw_data_dir = f'{project_dir}/data/raw/defra/'\n",
    "    \n",
    "    dfs = []\n",
    "    for year in years:\n",
    "        pollution = load_pollution_data(year, pollution_type)\n",
    "        pollution['longitude'], pollution['latitude'] = translate_coordinates(\n",
    "            pollution['x'].values, pollution['y'].values, pin, pout)\n",
    "        pollution_gdf = coordinates_to_points(pollution, 'latitude', 'longitude')\n",
    "        \n",
    "        nuts_spec_year = nuts_earliest(year)\n",
    "        nuts = load_nuts_regions(year=nuts_spec_year, level=nuts_level)\n",
    "        nuts = nuts.to_crs(pout.upper())\n",
    "        \n",
    "        pollution_gdf = gpd.sjoin(pollution_gdf, nuts, op='within')\n",
    "        \n",
    "        aggregated = (pollution_gdf.groupby('NUTS_ID')[pollution_type]\n",
    "                      .apply(aggfunc)\n",
    "                      .reset_index())\n",
    "        aggregated['nuts_year_spec'] = nuts_spec_year\n",
    "        aggregated['year'] = year\n",
    "        \n",
    "        value_header = f'air_pollution_{aggfunc.__name__}_{pollution_type}'\n",
    "        headers = {\n",
    "            pollution_type: value_header,\n",
    "            'NUTS_ID': 'nuts_id'\n",
    "        }\n",
    "        aggregated = aggregated.rename(columns=headers)\n",
    "        dfs.append(aggregated)\n",
    "    \n",
    "    df = pd.concat(dfs)\n",
    "    df = df[['year', 'nuts_id', 'nuts_year_spec', value_header]]\n",
    "    df.to_csv(f'{out_dir}{value_header}.nuts{nuts_level}.csv', index=False)\n",
    "    return df"
   ]
  },
  {
   "cell_type": "code",
   "execution_count": null,
   "metadata": {},
   "outputs": [],
   "source": [
    "df = make_air_pollution_nuts(years, pollution_type='pm10', nuts_level=3, aggfunc=np.mean)"
   ]
  },
  {
   "cell_type": "markdown",
   "metadata": {},
   "source": [
    "## LEPs"
   ]
  },
  {
   "cell_type": "code",
   "execution_count": null,
   "metadata": {},
   "outputs": [],
   "source": [
    "def leps_year_spec(year):\n",
    "    '''leps_year_spec\n",
    "    Return earliest possible year for the LEP boundaries based\n",
    "    on a given year.\n",
    "    \n",
    "    Args:\n",
    "        year (int): Year of data.\n",
    "        \n",
    "    Returns:\n",
    "        (int): LEP boundary year specification.\n",
    "    '''\n",
    "    if year < 2014:\n",
    "        return -2014\n",
    "    elif 2014 <= year < 2017:\n",
    "        return 2014\n",
    "    elif year >= 2017:\n",
    "        return 2017"
   ]
  },
  {
   "cell_type": "code",
   "execution_count": null,
   "metadata": {},
   "outputs": [],
   "source": [
    "def make_air_pollution_leps(years, pollution_type='pm10', aggfunc=np.mean):\n",
    "    '''make_air_pollution_leps\n",
    "    Creates air pollution indicator for LEP regions over a range of years, using\n",
    "    modelled point data from DEFRA at a 1km resolution.\n",
    "    \n",
    "    Output is a DataFrame of aggregated values at the level of LEP regions.\n",
    "    \n",
    "    Args:\n",
    "        years (iter of int): Collects pollution data and creates indicators over\n",
    "            this range of years.\n",
    "        pollution_type (str): Name of pollutant. Choices are currently pm10 \n",
    "            and pm25, no2 or nox. Defaults to pm10.\n",
    "        aggfunc (function): Function used to aggregate point data within a region, \n",
    "            for example finding the average, maximum or percentile value. Default \n",
    "            is np.mean.\n",
    "            \n",
    "    Returns:\n",
    "        df (pandas.DataFrame): DataFrame of processed indicator.\n",
    "    '''\n",
    "    \n",
    "    proj = 'epsg:27700'\n",
    "    \n",
    "    out_dir = f'{data_path}/processed/defra/'\n",
    "    raw_data_dir = f'{project_dir}/data/raw/defra/'\n",
    "    \n",
    "    dfs = []\n",
    "    for year in years:\n",
    "        pollution = load_pollution_data(year, pollution_type)\n",
    "        pollution_gdf = coordinates_to_points(pollution, 'x', 'y')\n",
    "        \n",
    "        lep_year_spec = leps_year_spec(year)\n",
    "        leps = load_leps_regions(year=lep_year_spec)\n",
    "        leps = leps.to_crs(proj.upper())\n",
    "        \n",
    "        pollution_gdf = gpd.sjoin(pollution_gdf, leps, op='within')\n",
    "        \n",
    "        region_col = f'lep{str(lep_year_spec)[-2:]}cd'\n",
    "        aggregated = (pollution_gdf.groupby(region_col)[pollution_type]\n",
    "                      .apply(aggfunc)\n",
    "                      .reset_index())\n",
    "        aggregated['lep_year_spec'] = lep_year_spec\n",
    "        aggregated['year'] = year\n",
    "        \n",
    "        value_header = f'air_pollution_{aggfunc.__name__}_{pollution_type}'\n",
    "        headers = {\n",
    "            pollution_type: value_header,\n",
    "            region_col: 'lep_id'\n",
    "        }\n",
    "        aggregated = aggregated.rename(columns=headers)\n",
    "        dfs.append(aggregated)\n",
    "    \n",
    "    df = pd.concat(dfs)\n",
    "    df = df[['year', 'lep_id', 'lep_year_spec', value_header]]\n",
    "    df.to_csv(f'{out_dir}{value_header}.lep.csv', index=False)\n",
    "    return df"
   ]
  },
  {
   "cell_type": "code",
   "execution_count": null,
   "metadata": {},
   "outputs": [],
   "source": [
    "def load_leps_regions(year):\n",
    "    '''load_leps_regions\n",
    "    Loads LEP shapefiles.\n",
    "    \n",
    "    Args:\n",
    "        year (int): LEP version year.\n",
    "    '''\n",
    "    year = abs(year)\n",
    "\n",
    "    if year == 2014:\n",
    "        fin = 'Local_Enterprise_Partnerships_December_2014_Full_Clipped_Boundaries_in_England'\n",
    "    elif year == 2017:\n",
    "        fin = 'Local_Enterprise_Partnerships_April_2017_EN_BFC_V3'\n",
    "        \n",
    "    leps_dir = f'{data_path}/raw/shapefiles/{fin}/{fin}.shp'\n",
    "    \n",
    "    leps_gdf = gpd.read_file(leps_dir)\n",
    "    \n",
    "    return leps_gdf"
   ]
  },
  {
   "cell_type": "code",
   "execution_count": null,
   "metadata": {},
   "outputs": [],
   "source": [
    "_ = make_air_pollution_leps(years)"
   ]
  }
 ],
 "metadata": {
  "language_info": {
   "name": "python",
   "pygments_lexer": "ipython3"
  }
 },
 "nbformat": 4,
 "nbformat_minor": 4
}
