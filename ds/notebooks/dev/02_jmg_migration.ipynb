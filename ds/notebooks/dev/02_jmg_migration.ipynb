{
 "cells": [
  {
   "cell_type": "markdown",
   "metadata": {},
   "source": [
    "# Migration data\n",
    "\n",
    "Here we download migration data from [here](https://www.ons.gov.uk/peoplepopulationandcommunity/populationandmigration/migrationwithintheuk/datasets/localareamigrationindicatorsunitedkingdom)\n",
    "\n",
    "We will use this data to create indicators about labour flows in and out of a LAD\n",
    "\n",
    "The data is only available at the NUTS3 level so as part of this we will have to create a tool to lookup NUTS3 to NUTS2. This might be useful in other analyses of the data."
   ]
  },
  {
   "cell_type": "markdown",
   "metadata": {},
   "source": [
    "## Preamble"
   ]
  },
  {
   "cell_type": "code",
   "execution_count": null,
   "metadata": {},
   "outputs": [],
   "source": [
    "%run ../notebook_preamble.ipy"
   ]
  },
  {
   "cell_type": "code",
   "execution_count": null,
   "metadata": {},
   "outputs": [],
   "source": [
    "# Imports"
   ]
  },
  {
   "cell_type": "code",
   "execution_count": null,
   "metadata": {},
   "outputs": [],
   "source": [
    "# Functions"
   ]
  },
  {
   "cell_type": "code",
   "execution_count": null,
   "metadata": {},
   "outputs": [],
   "source": [
    "# Directories\n",
    "\n",
    "if 'migration' not in os.listdir('../../data/raw/'):\n",
    "    os.mkdir('../../data/raw/migration')\n",
    "    \n",
    "if 'migration' not in os.listdir('../../data/processed/'):\n",
    "    os.mkdir('../../data/processed/migration')"
   ]
  },
  {
   "cell_type": "markdown",
   "metadata": {},
   "source": [
    "## 1. Collect data\n",
    "\n",
    "The migration file has various components. We will focus on sheet 2, which contains information about 'Long-Term International and Internal migration 'component of population change' data.  Rates can be calculated using population estimates data'.\n",
    "\n",
    "Long-term migration feels more strongly linked with the idea of absorptive capacity and long term comparative advantage"
   ]
  },
  {
   "cell_type": "code",
   "execution_count": null,
   "metadata": {},
   "outputs": [],
   "source": [
    "#Collect the data\n",
    "file = requests.get(\n",
    "    'https://www.ons.gov.uk/file?uri=%2fpeoplepopulationandcommunity%2fpopulationandmigration%2fmigrationwithintheuk%2fdatasets%2flocalareamigrationindicatorsunitedkingdom%2fcurrent/lamisspreadsheet.xlsx')\n",
    "\n",
    "#Save it\n",
    "with open(f'../../data/raw/migration/{today_str}_migration.xls','wb') as outfile:\n",
    "    outfile.write(file.content)"
   ]
  },
  {
   "cell_type": "code",
   "execution_count": null,
   "metadata": {},
   "outputs": [],
   "source": [
    "#Read the file\n",
    "migration = pd.read_excel('../../data/raw/migration/7_11_2019_migration.xls',sheet_name=1,header=None)"
   ]
  },
  {
   "cell_type": "markdown",
   "metadata": {},
   "source": [
    "## 2. Tidy data\n",
    "\n",
    "Unfortunately the data is only available in a wide, gnarly format. \n",
    "\n",
    "We will try to turn it into a wide dataset that can be analysed more easily.\n",
    "\n",
    "`fillna(method='ffill')` will be our friend"
   ]
  },
  {
   "cell_type": "code",
   "execution_count": null,
   "metadata": {},
   "outputs": [],
   "source": [
    "migration.head()"
   ]
  },
  {
   "cell_type": "code",
   "execution_count": null,
   "metadata": {},
   "outputs": [],
   "source": [
    "# Fill missing values"
   ]
  },
  {
   "cell_type": "code",
   "execution_count": null,
   "metadata": {},
   "outputs": [],
   "source": [
    "migration.fillna(method='ffill',axis=1,inplace=True)"
   ]
  },
  {
   "cell_type": "code",
   "execution_count": null,
   "metadata": {},
   "outputs": [],
   "source": [
    "migration.head()"
   ]
  },
  {
   "cell_type": "markdown",
   "metadata": {},
   "source": [
    "Note that the above fills the missing value below the population estimate as if it was an outflow. We will remove that later"
   ]
  },
  {
   "cell_type": "code",
   "execution_count": null,
   "metadata": {},
   "outputs": [],
   "source": [
    "#Join the first three values in each column to create a variable with information about year, variable and direction\n",
    "col_name = migration.loc[:2].fillna('').apply(lambda x: '__'.join(list(x)))\n",
    "\n",
    "print(col_name[:4][3])"
   ]
  },
  {
   "cell_type": "code",
   "execution_count": null,
   "metadata": {},
   "outputs": [],
   "source": [
    "#Remove the four first rows, which now are redundant\n",
    "migration_2 = migration.loc[4:]\n",
    "\n",
    "migration_2.columns = col_name"
   ]
  },
  {
   "cell_type": "code",
   "execution_count": null,
   "metadata": {},
   "outputs": [],
   "source": [
    "migration_2.head()"
   ]
  },
  {
   "cell_type": "code",
   "execution_count": null,
   "metadata": {},
   "outputs": [],
   "source": [
    "#Melt the df"
   ]
  },
  {
   "cell_type": "code",
   "execution_count": null,
   "metadata": {},
   "outputs": [],
   "source": [
    "migration_long = pd.melt(migration_2,id_vars=migration_2.columns[:2])"
   ]
  },
  {
   "cell_type": "code",
   "execution_count": null,
   "metadata": {},
   "outputs": [],
   "source": [
    "migration_long.head(n=10)"
   ]
  },
  {
   "cell_type": "code",
   "execution_count": null,
   "metadata": {},
   "outputs": [],
   "source": [
    "# Drop the missing rows (they are a gap between geographies)"
   ]
  },
  {
   "cell_type": "code",
   "execution_count": null,
   "metadata": {},
   "outputs": [],
   "source": [
    "migration_long.dropna(axis=0,subset=['Area Code____'],inplace=True)"
   ]
  },
  {
   "cell_type": "code",
   "execution_count": null,
   "metadata": {},
   "outputs": [],
   "source": [
    "migration_long.head(n=10)"
   ]
  },
  {
   "cell_type": "code",
   "execution_count": null,
   "metadata": {},
   "outputs": [],
   "source": [
    "#Now we want to split the variable into something more meaningful"
   ]
  },
  {
   "cell_type": "code",
   "execution_count": null,
   "metadata": {},
   "outputs": [],
   "source": [
    "#Period contains the year, variable 2 the name and direction whether it is inflow or outflow\n",
    "migration_long['period'],migration_long['variable_2'],migration_long['direction'] = [\n",
    "    [var.split('__')[n] for var in migration_long['variable']] for n in [0,1,2]]"
   ]
  },
  {
   "cell_type": "code",
   "execution_count": null,
   "metadata": {},
   "outputs": [],
   "source": [
    "migration_long.tail()"
   ]
  },
  {
   "cell_type": "code",
   "execution_count": null,
   "metadata": {},
   "outputs": [],
   "source": [
    "#Rename variables"
   ]
  },
  {
   "cell_type": "code",
   "execution_count": null,
   "metadata": {},
   "outputs": [],
   "source": [
    "#Period we just split on hyphens and remove one to have the first half year\n",
    "migration_long['period'] = [int(x.strip().split('-')[-1])-1 for x in migration_long['period']]"
   ]
  },
  {
   "cell_type": "code",
   "execution_count": null,
   "metadata": {},
   "outputs": [],
   "source": [
    "migration_long['variable_2'] = ['population_estimate' if 'Population' in x else 'internal_migration' if 'Internal' in x \n",
    "                               else 'international_migration' for x in migration_long['variable_2']]"
   ]
  },
  {
   "cell_type": "code",
   "execution_count": null,
   "metadata": {},
   "outputs": [],
   "source": [
    "migration_long['direction'] = [np.nan if len(x)==0 else x.lower() for x in migration_long['direction']]"
   ]
  },
  {
   "cell_type": "code",
   "execution_count": null,
   "metadata": {},
   "outputs": [],
   "source": [
    "migration_clean = migration_long[['Area Code____','Area Name____','period','variable_2','direction','value']]"
   ]
  },
  {
   "cell_type": "code",
   "execution_count": null,
   "metadata": {},
   "outputs": [],
   "source": [
    "migration_clean.rename(columns={'Area Code____':'area_code','Area Name____':'area_name'},inplace=True)"
   ]
  },
  {
   "cell_type": "code",
   "execution_count": null,
   "metadata": {},
   "outputs": [],
   "source": [
    "# Rearrange so we can normalise by population if we want"
   ]
  },
  {
   "cell_type": "code",
   "execution_count": null,
   "metadata": {},
   "outputs": [],
   "source": [
    "migration_rearranged = pd.merge(migration_clean.loc[migration_clean['variable_2']=='population_estimate'],\n",
    "        migration_clean.loc[migration_clean['variable_2']!='population_estimate'],\n",
    "        left_on=['area_code','area_name','period'],right_on=['area_code','area_name','period'])\n",
    "\n",
    "migration_rearranged.head()"
   ]
  },
  {
   "cell_type": "code",
   "execution_count": null,
   "metadata": {},
   "outputs": [],
   "source": [
    "migration_rearranged.drop(axis=1,labels=['variable_2_x','direction_x'],inplace=True)"
   ]
  },
  {
   "cell_type": "code",
   "execution_count": null,
   "metadata": {},
   "outputs": [],
   "source": [
    "migration_rearranged.head()"
   ]
  },
  {
   "cell_type": "code",
   "execution_count": null,
   "metadata": {},
   "outputs": [],
   "source": [
    "migration_rearranged.rename(columns={'value_x':'population_estimate','variable_2_y':'variable','direction_y':'direction',\n",
    "                                    'value_y':'value'},inplace=True)"
   ]
  },
  {
   "cell_type": "code",
   "execution_count": null,
   "metadata": {},
   "outputs": [],
   "source": [
    "migration_rearranged.head()"
   ]
  },
  {
   "cell_type": "code",
   "execution_count": null,
   "metadata": {},
   "outputs": [],
   "source": [
    "#Remove a few observations with no codes\n",
    "migration_rearranged= migration_rearranged.loc[[len(x)>2 for x in migration_rearranged['area_code']]]"
   ]
  },
  {
   "cell_type": "code",
   "execution_count": null,
   "metadata": {},
   "outputs": [],
   "source": [
    "migration_rearranged.tail()"
   ]
  },
  {
   "cell_type": "markdown",
   "metadata": {},
   "source": [
    "## 2. Convert to NUTS2\n",
    "\n",
    "The data in this table is available at the NUTS1 and NUTS3 region. We want to convert it to NUTS2.\n",
    "\n",
    "This is not going to be as easy as we hoped. The reason is that various codes are out of date in the available lookups. To address this we will use the National Statistics Postcode Lookup, which contains the most up to date lookups.\n",
    "\n",
    "We use the latest nspl file from [here](https://geoportal.statistics.gov.uk/datasets/national-statistics-postcode-lookup-august-2019)\n",
    "\n",
    "What we will do is go:\n",
    "\n",
    "```\n",
    "nspl -> get current lad to nuts4 -> match nuts4 with nuts2 using a lookup in the NSPL documentation -> match this with the migration file\n",
    "\n",
    "```\n",
    "\n",
    "\n"
   ]
  },
  {
   "cell_type": "markdown",
   "metadata": {},
   "source": [
    "##### LADS to NUTS4"
   ]
  },
  {
   "cell_type": "code",
   "execution_count": null,
   "metadata": {},
   "outputs": [],
   "source": [
    "nspl = pd.read_csv('../../data/external/nspl/Data/NSPL_AUG_2019_UK.csv')"
   ]
  },
  {
   "cell_type": "code",
   "execution_count": null,
   "metadata": {},
   "outputs": [],
   "source": [
    "#Get the LAD to NUTS matches\n",
    "laua_nuts = nspl.drop_duplicates('nuts').reset_index(drop=True)[['laua','nuts']]"
   ]
  },
  {
   "cell_type": "code",
   "execution_count": null,
   "metadata": {},
   "outputs": [],
   "source": [
    "laua_nuts.head()"
   ]
  },
  {
   "cell_type": "markdown",
   "metadata": {},
   "source": [
    "It is a one LAD to many nuts style concordance"
   ]
  },
  {
   "cell_type": "markdown",
   "metadata": {},
   "source": [
    "##### NUTS4 to NUTS2"
   ]
  },
  {
   "cell_type": "code",
   "execution_count": null,
   "metadata": {},
   "outputs": [],
   "source": [
    "lad_nuts_lookup = pd.read_csv('../../data/external/nspl/Documents/LAU219_LAU119_NUTS18_MAY_2019_UK_LU.csv')"
   ]
  },
  {
   "cell_type": "code",
   "execution_count": null,
   "metadata": {},
   "outputs": [],
   "source": [
    "new_lookup = pd.merge(laua_nuts,lad_nuts_lookup,left_on='nuts',right_on='LAU219CD')[['laua','LAU119NM','NUTS218CD','NUTS218NM']]"
   ]
  },
  {
   "cell_type": "code",
   "execution_count": null,
   "metadata": {},
   "outputs": [],
   "source": [
    "new_lookup = new_lookup.drop_duplicates('laua').reset_index(drop=True)[['laua','NUTS218CD','NUTS218NM']]\n",
    "\n",
    "new_lookup.head()"
   ]
  },
  {
   "cell_type": "markdown",
   "metadata": {},
   "source": [
    "##### LADs to NUTS2 (in the migration file)"
   ]
  },
  {
   "cell_type": "code",
   "execution_count": null,
   "metadata": {},
   "outputs": [],
   "source": [
    "migration_w_nuts = migration_rearranged.merge(new_lookup,left_on='area_code',right_on='laua')"
   ]
  },
  {
   "cell_type": "code",
   "execution_count": null,
   "metadata": {},
   "outputs": [],
   "source": [
    "migration_w_nuts.head()"
   ]
  },
  {
   "cell_type": "code",
   "execution_count": null,
   "metadata": {},
   "outputs": [],
   "source": [
    "set(new_lookup['laua'])-set(migration_rearranged['area_code'])"
   ]
  },
  {
   "cell_type": "markdown",
   "metadata": {},
   "source": [
    "All matched!"
   ]
  },
  {
   "cell_type": "markdown",
   "metadata": {},
   "source": [
    "##### Regroup LADS into NUTS"
   ]
  },
  {
   "cell_type": "code",
   "execution_count": null,
   "metadata": {},
   "outputs": [],
   "source": [
    "migration_regrouped = migration_w_nuts.groupby(\n",
    "    ['NUTS218NM','NUTS218CD','direction','variable','period'])[['population_estimate','value']].sum().reset_index(drop=False)"
   ]
  },
  {
   "cell_type": "code",
   "execution_count": null,
   "metadata": {},
   "outputs": [],
   "source": [
    "migration_regrouped.rename(columns={'NUTS218NM':'nuts_name','NUTS218CD':'nuts_code'},inplace=True)"
   ]
  },
  {
   "cell_type": "code",
   "execution_count": null,
   "metadata": {},
   "outputs": [],
   "source": [
    "migration_wide = migration_regrouped.pivot_table(index=['nuts_name','nuts_code','variable','period','population_estimate'],\n",
    "                               columns='direction',values='value').reset_index(drop=False)"
   ]
  },
  {
   "cell_type": "code",
   "execution_count": null,
   "metadata": {},
   "outputs": [],
   "source": [
    "migration_wide['net'] = (migration_wide['inflow']-migration_wide['outflow'])/migration_wide['population_estimate']"
   ]
  },
  {
   "cell_type": "code",
   "execution_count": null,
   "metadata": {},
   "outputs": [],
   "source": [
    "migration_wide.head()"
   ]
  },
  {
   "cell_type": "code",
   "execution_count": null,
   "metadata": {},
   "outputs": [],
   "source": [
    "migration_wide.to_csv(f'../../data/processed/migration/{today_str}_migration_nuts.csv')"
   ]
  }
 ],
 "metadata": {
  "language_info": {
   "name": "python",
   "pygments_lexer": "ipython3"
  }
 },
 "nbformat": 4,
 "nbformat_minor": 2
}
